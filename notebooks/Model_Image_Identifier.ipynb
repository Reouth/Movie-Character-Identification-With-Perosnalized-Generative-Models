{
 "cells": [
  {
   "cell_type": "markdown",
   "source": [
    "# **Image Identifier Models**\n",
    "\n",
    "This notebook is designed to evaluate and identify characters in movie frames using Generative and discrimiantive models. The notebook is structured to align with the objectives outlined in the thesis.\n",
    "\n"
   ],
   "metadata": {
    "id": "TdcknIXz5Xa4"
   }
  },
  {
   "cell_type": "markdown",
   "metadata": {
    "id": "8WkXfNrhifdi"
   },
   "source": [
    "## **1. Environment Setup**\n",
    "Install necessary libraries and clone the required repository."
   ]
  },
  {
   "cell_type": "code",
   "execution_count": null,
   "metadata": {
    "id": "Q3GrQYwSifdj"
   },
   "outputs": [],
   "source": [
    "!git clone https://github.com/Reouth/Movie-Character-Identification-With-Perosnalized-Generative-Models.git\n",
    "\n",
    "%pip install -qq git+https://github.com/huggingface/diffusers.git\n",
    "%pip install -q accelerate\n",
    "!pip install bitsandbytes\n",
    "!pip install git+https://github.com/openai/CLIP.git\n"
   ]
  },
  {
   "cell_type": "markdown",
   "metadata": {
    "id": "EVnS7kScifdj"
   },
   "source": [
    "## **2. Import Libraries**\n",
    "Load necessary Python libraries and scripts."
   ]
  },
  {
   "cell_type": "code",
   "execution_count": null,
   "metadata": {
    "id": "-LzY3tQwifdj"
   },
   "outputs": [],
   "source": [
    "import os\n",
    "import torch\n",
    "import gc\n",
    "import configparser\n",
    "from torch import autocast\n",
    "import numpy as np\n",
    "import pandas as pd\n",
    "\n",
    "# Change directory to cloned repository\n",
    "os.chdir('/content/Movie-Character-Identification-With-Perosnalized-Generative-Models')\n",
    "\n",
    "from models import clip_model\n",
    "from models import Diffusion_generate\n",
    "from src import data_upload\n",
    "from src import helper_functions\n"
   ]
  },
  {
   "cell_type": "markdown",
   "metadata": {
    "id": "M_dl_0Soifdj"
   },
   "source": [
    "## **3. Configure Authentication**\n",
    "Login to Hugging Face to access the Stable Diffusion model."
   ]
  },
  {
   "cell_type": "code",
   "execution_count": null,
   "metadata": {
    "colab": {
     "base_uri": "https://localhost:8080/",
     "height": 17,
     "referenced_widgets": [
      "915aceaa921b44a5877f8ab076721498",
      "0e750b0c59694018b6d2f6aebb07d9ae",
      "56dfd2e2a71244d599b4fad367a16ba7",
      "109a13957cf34dfcb7a7d1c9ffd340c7",
      "ea3c5456bf47420e93d082c5cf6f02e8",
      "dd461b926b5b4271b00cf733becf7459",
      "eaa798632b354f90b29440e80996bc23",
      "b932f21a4deb466696af0bec9dc85f21",
      "d28d858daeca4c50b538bd954379ea64",
      "38b157dd89c449d9aa75f738967aee6f",
      "482d825fd43446998373586e20d23df3",
      "533a28ca5cdf4086998941bd91e0ee67",
      "f211696d128d4eb78657b3a2bc6ef706",
      "4af746dcf5fa496b83aae824854069ca",
      "8019d6c8c6f541da8ede43a6839a971b",
      "c8dd56a85c2f4190a269db8ff9731dc1",
      "99901b8179e1441882b8147eb095747d",
      "57752e7f72b44465a0908ddfe07a01bf",
      "95db7150324348dc98e130af2af4ff00",
      "5dd01040a5b049ebb27132814a0ac25d"
     ]
    },
    "id": "5m9Csge2ifdk",
    "outputId": "cdb0a657-b18e-4088-8c49-810900be1f31"
   },
   "outputs": [
    {
     "output_type": "display_data",
     "data": {
      "text/plain": [
       "VBox(children=(HTML(value='<center> <img\\nsrc=https://huggingface.co/front/assets/huggingface_logo-noborder.sv…"
      ],
      "application/vnd.jupyter.widget-view+json": {
       "version_major": 2,
       "version_minor": 0,
       "model_id": "915aceaa921b44a5877f8ab076721498"
      }
     },
     "metadata": {}
    }
   ],
   "source": [
    "from huggingface_hub import notebook_login\n",
    "!git config --global credential.helper store\n",
    "notebook_login()"
   ]
  },
  {
   "cell_type": "markdown",
   "metadata": {
    "id": "uiEmG7NVifdk"
   },
   "source": [
    "## **4. Mount Google Drive**\n",
    "Store and retrieve files from Google Drive."
   ]
  },
  {
   "cell_type": "code",
   "execution_count": null,
   "metadata": {
    "colab": {
     "base_uri": "https://localhost:8080/"
    },
    "id": "OKWHYOS_ifdk",
    "outputId": "5377adea-2369-4e59-f951-0f9be51b8994"
   },
   "outputs": [
    {
     "output_type": "stream",
     "name": "stdout",
     "text": [
      "Mounted at /content/drive\n"
     ]
    }
   ],
   "source": [
    "from google.colab import drive\n",
    "drive.mount('/content/drive')"
   ]
  },
  {
   "cell_type": "markdown",
   "metadata": {
    "id": "PJqY5FW-ifdk"
   },
   "source": [
    "\n",
    "## **5. General Configuration**\n"
   ]
  },
  {
   "cell_type": "markdown",
   "metadata": {
    "id": "pglU8TzJBRoc"
   },
   "source": [
    "\n",
    "**Input/output Path configurations and load**\n",
    "\n",
    "Note:\n",
    "* Input path for Diffusion model is ID image-text embedding folder\n",
    "* Input path for CLIP model is folder for ID images"
   ]
  },
  {
   "cell_type": "code",
   "source": [
    "\n",
    "\n",
    "output_dir = '/content/drive/MyDrive/thesis_OO_SD/testing/Fabelmans_movie/csv_results'#@param {type:\"string\"} #output main folder\n",
    "os.makedirs(output_dir,exist_ok=True)\n",
    "input_dir =  '/content/drive/MyDrive/thesis_OO_SD/Fabelmans_movie/ID_images' #@param {type:\"string\"} #input main folder\n",
    "\n",
    "text_prompts  =  [\"\"] #@param {type:\"raw\"}  # add text prompts to generate here (correlates to embedings text)\n",
    "\n",
    "\n",
    "# input/output path creation\n",
    "input_dirs=[]\n",
    "output_dirs=[]\n",
    "\n",
    "for text in text_prompts:\n",
    "  input_dirs.append(os.path.join(input_dir,text.replace(\" \",\"_\")))\n",
    "  output_dirs.append(os.path.join(output_dir,text.replace(\" \",\"_\")))"
   ],
   "metadata": {
    "cellView": "form",
    "id": "aApeFXgzsang"
   },
   "execution_count": null,
   "outputs": []
  },
  {
   "cell_type": "markdown",
   "metadata": {
    "id": "NR1OqrWT-NFi"
   },
   "source": [
    "\n",
    "**Image Classes Configuartion and load**\n",
    "\n",
    "Input images (movie frames) are loaded from a directory in drive and saved as new name \"{class name (folder)}_{number of frame}:\n",
    "\n",
    "*   image_list = [(new_name,PIL image)...]\n"
   ]
  },
  {
   "cell_type": "code",
   "source": [
    "\n",
    "class_batch = 5 #@param {type:\"number\"}  #number of images from each class to process  if all set to float('inf')\n",
    "max_frames = float('inf') #@param {type:\"number\"} #maximum number of images to process if all set to float('inf')\n",
    "image_data_path = '/content/drive/MyDrive/thesis_OO_SD/Fabelmans_movie/frames_classes_GT' #@param {type:\"string\"} #folder to dataset image classes\n"
   ],
   "metadata": {
    "id": "6R0dLlkGAn3Z",
    "cellView": "form"
   },
   "execution_count": null,
   "outputs": []
  },
  {
   "cell_type": "code",
   "execution_count": null,
   "metadata": {
    "collapsed": true,
    "id": "8UStDu64sTNs"
   },
   "outputs": [],
   "source": [
    "image_list =data_upload.upload_images(image_data_path,class_batch =class_batch,max_frames=max_frames)"
   ]
  },
  {
   "cell_type": "markdown",
   "source": [
    "## **6. Image Identificaton**"
   ],
   "metadata": {
    "id": "mdmjA33U3k-8"
   }
  },
  {
   "cell_type": "markdown",
   "source": [
    "### **Diffusion Model Identification for multiple images**"
   ],
   "metadata": {
    "id": "SJIoqSN5xS69"
   }
  },
  {
   "cell_type": "markdown",
   "source": [
    "**Diffusion Identifier model configurations**\n"
   ],
   "metadata": {
    "id": "MMJpz-CoBfhv"
   }
  },
  {
   "cell_type": "code",
   "source": [
    "num_inference_steps = 50  #@param {type:\"number\"}\n",
    "resolution = 512  #@param {type:\"number\"}\n",
    "height = 512  #@param {type:\"number\"}\n",
    "width = 512  #@param {type:\"number\"}\n",
    "alpha = 0 #@param {type:\"number\"}\n",
    "guidance_scale = 7.5 #@param {type:\"number\"}\n",
    "seed = 9 #@param {type:\"number\"}\n",
    "\n",
    "cat_embeds = False  #@param {type:\"boolean\"}\n",
    "Imagic_pipe = True  #@param {type:\"boolean\"}\n",
    "SD_model_name = 'CompVis/stable-diffusion-v1-4' #@param {type:\"string\"}\n",
    "CLIP_model_name = 'openai/clip-vit-large-patch14' #@param {type:\"string\"}\n",
    "device = \"cuda\" if torch.cuda.is_available() else \"cpu\"\n"
   ],
   "metadata": {
    "id": "iV1Qxcm4Bf2n"
   },
   "execution_count": null,
   "outputs": []
  },
  {
   "cell_type": "markdown",
   "source": [
    "**Diffusion Identifier model inference**\n",
    "\n",
    "* Loss is saved to CSV per class in the output directory\n"
   ],
   "metadata": {
    "id": "4ffH_VC8CGO6"
   }
  },
  {
   "cell_type": "code",
   "execution_count": null,
   "metadata": {
    "id": "5jy6lh7UhAZ4"
   },
   "outputs": [],
   "source": [
    "for input_dir, output_dir in zip(input_dirs,output_dirs):\n",
    "  os.makedirs(output_dir,exist_ok=True)\n",
    "  SD_classified = SD_model.all_embeds_conditioned_classifier(input_dir,output_dir, SD_model_name,CLIP_model_name,\n",
    "                                                            device,image_list,cat_embeds,Imagic_pipe,alpha,seed=seed,\n",
    "                                                            height=height,width=width, resolution=resolution,\n",
    "                                                            num_inference_steps=num_inference_steps,guidance_scale=guidance_scale\n",
    "                                                            )\n"
   ]
  },
  {
   "cell_type": "markdown",
   "metadata": {
    "id": "1pRH4L8aE-RE"
   },
   "source": [
    "### **CLIP Model Identification for multiple image**"
   ]
  },
  {
   "cell_type": "markdown",
   "source": [
    "**CLIP Identifier model configurations**\n"
   ],
   "metadata": {
    "id": "VLKKKA_1C8Fb"
   }
  },
  {
   "cell_type": "code",
   "source": [
    "device = \"cuda\" if torch.cuda.is_available() else \"cpu\"\n",
    "model_name = 'ViT-B/32'  #@param {type:\"string\"}\n"
   ],
   "metadata": {
    "id": "FUIbcNkpC8Fc"
   },
   "execution_count": null,
   "outputs": []
  },
  {
   "cell_type": "markdown",
   "source": [
    "**CLIP Identifier model inference**\n",
    "\n",
    "* Loss is saved to CSV per class in the output directory\n"
   ],
   "metadata": {
    "id": "O_vW2w7zDaOJ"
   }
  },
  {
   "cell_type": "code",
   "execution_count": null,
   "metadata": {
    "id": "E5zPFkjPE-RE"
   },
   "outputs": [],
   "source": [
    "for image_ID_path, csv_folder in zip(input_dirs,output_dirs):\n",
    "  os.makedirs(csv_folder, exist_ok=True)\n",
    "  clip_pipeline = clip_model.CLIPPipeline(device,model_name)\n",
    "  for image_name,image,_ in image_list:\n",
    "    cls = image_name.rsplit(\"_\",1)[0]\n",
    "    image_flag, df_clip,csv_file_path = helper_functions.csv_checkpoint(csv_folder,cls,image_name)\n",
    "    if image_flag:\n",
    "      continue\n",
    "    else:\n",
    "      clip_embeddings = clip_pipeline.images_to_embeddings(image_ID_path)\n",
    "      clip_classsifed = clip_pipeline.conditioned_classifier(image,clip_embeddings)\n",
    "\n",
    "      df_image = pd.DataFrame(clip_classsifed,columns = ['input_CLIP_embeds','CLIP_loss'])\n",
    "      df_image.insert(0, 'GT Image name', image_name)\n",
    "      df_clip = pd.concat([df_clip, df_image], ignore_index=False)\n",
    "\n",
    "      # Save to CSV\n",
    "      df_clip.to_csv(csv_file_path)\n"
   ]
  }
 ],
 "metadata": {
  "accelerator": "GPU",
  "colab": {
   "collapsed_sections": [
    "8WkXfNrhifdi",
    "EVnS7kScifdj",
    "M_dl_0Soifdj",
    "uiEmG7NVifdk",
    "PJqY5FW-ifdk",
    "SJIoqSN5xS69",
    "1pRH4L8aE-RE"
   ],
   "gpuType": "A100",
   "provenance": []
  },
  "kernelspec": {
   "display_name": "Python 3",
   "name": "python3"
  },
  "language_info": {
   "name": "python"
  },
  "widgets": {
   "application/vnd.jupyter.widget-state+json": {
    "915aceaa921b44a5877f8ab076721498": {
     "model_module": "@jupyter-widgets/controls",
     "model_name": "VBoxModel",
     "model_module_version": "1.5.0",
     "state": {
      "_dom_classes": [],
      "_model_module": "@jupyter-widgets/controls",
      "_model_module_version": "1.5.0",
      "_model_name": "VBoxModel",
      "_view_count": null,
      "_view_module": "@jupyter-widgets/controls",
      "_view_module_version": "1.5.0",
      "_view_name": "VBoxView",
      "box_style": "",
      "children": [],
      "layout": "IPY_MODEL_eaa798632b354f90b29440e80996bc23"
     }
    },
    "0e750b0c59694018b6d2f6aebb07d9ae": {
     "model_module": "@jupyter-widgets/controls",
     "model_name": "HTMLModel",
     "model_module_version": "1.5.0",
     "state": {
      "_dom_classes": [],
      "_model_module": "@jupyter-widgets/controls",
      "_model_module_version": "1.5.0",
      "_model_name": "HTMLModel",
      "_view_count": null,
      "_view_module": "@jupyter-widgets/controls",
      "_view_module_version": "1.5.0",
      "_view_name": "HTMLView",
      "description": "",
      "description_tooltip": null,
      "layout": "IPY_MODEL_b932f21a4deb466696af0bec9dc85f21",
      "placeholder": "​",
      "style": "IPY_MODEL_d28d858daeca4c50b538bd954379ea64",
      "value": "<center> <img\nsrc=https://huggingface.co/front/assets/huggingface_logo-noborder.svg\nalt='Hugging Face'> <br> Copy a token from <a\nhref=\"https://huggingface.co/settings/tokens\" target=\"_blank\">your Hugging Face\ntokens page</a> and paste it below. <br> Immediately click login after copying\nyour token or it might be stored in plain text in this notebook file. </center>"
     }
    },
    "56dfd2e2a71244d599b4fad367a16ba7": {
     "model_module": "@jupyter-widgets/controls",
     "model_name": "PasswordModel",
     "model_module_version": "1.5.0",
     "state": {
      "_dom_classes": [],
      "_model_module": "@jupyter-widgets/controls",
      "_model_module_version": "1.5.0",
      "_model_name": "PasswordModel",
      "_view_count": null,
      "_view_module": "@jupyter-widgets/controls",
      "_view_module_version": "1.5.0",
      "_view_name": "PasswordView",
      "continuous_update": true,
      "description": "Token:",
      "description_tooltip": null,
      "disabled": false,
      "layout": "IPY_MODEL_38b157dd89c449d9aa75f738967aee6f",
      "placeholder": "​",
      "style": "IPY_MODEL_482d825fd43446998373586e20d23df3",
      "value": ""
     }
    },
    "109a13957cf34dfcb7a7d1c9ffd340c7": {
     "model_module": "@jupyter-widgets/controls",
     "model_name": "CheckboxModel",
     "model_module_version": "1.5.0",
     "state": {
      "_dom_classes": [],
      "_model_module": "@jupyter-widgets/controls",
      "_model_module_version": "1.5.0",
      "_model_name": "CheckboxModel",
      "_view_count": null,
      "_view_module": "@jupyter-widgets/controls",
      "_view_module_version": "1.5.0",
      "_view_name": "CheckboxView",
      "description": "Add token as git credential?",
      "description_tooltip": null,
      "disabled": false,
      "indent": true,
      "layout": "IPY_MODEL_533a28ca5cdf4086998941bd91e0ee67",
      "style": "IPY_MODEL_f211696d128d4eb78657b3a2bc6ef706",
      "value": true
     }
    },
    "ea3c5456bf47420e93d082c5cf6f02e8": {
     "model_module": "@jupyter-widgets/controls",
     "model_name": "ButtonModel",
     "model_module_version": "1.5.0",
     "state": {
      "_dom_classes": [],
      "_model_module": "@jupyter-widgets/controls",
      "_model_module_version": "1.5.0",
      "_model_name": "ButtonModel",
      "_view_count": null,
      "_view_module": "@jupyter-widgets/controls",
      "_view_module_version": "1.5.0",
      "_view_name": "ButtonView",
      "button_style": "",
      "description": "Login",
      "disabled": false,
      "icon": "",
      "layout": "IPY_MODEL_4af746dcf5fa496b83aae824854069ca",
      "style": "IPY_MODEL_8019d6c8c6f541da8ede43a6839a971b",
      "tooltip": ""
     }
    },
    "dd461b926b5b4271b00cf733becf7459": {
     "model_module": "@jupyter-widgets/controls",
     "model_name": "HTMLModel",
     "model_module_version": "1.5.0",
     "state": {
      "_dom_classes": [],
      "_model_module": "@jupyter-widgets/controls",
      "_model_module_version": "1.5.0",
      "_model_name": "HTMLModel",
      "_view_count": null,
      "_view_module": "@jupyter-widgets/controls",
      "_view_module_version": "1.5.0",
      "_view_name": "HTMLView",
      "description": "",
      "description_tooltip": null,
      "layout": "IPY_MODEL_c8dd56a85c2f4190a269db8ff9731dc1",
      "placeholder": "​",
      "style": "IPY_MODEL_99901b8179e1441882b8147eb095747d",
      "value": "\n<b>Pro Tip:</b> If you don't already have one, you can create a dedicated\n'notebooks' token with 'write' access, that you can then easily reuse for all\nnotebooks. </center>"
     }
    },
    "eaa798632b354f90b29440e80996bc23": {
     "model_module": "@jupyter-widgets/base",
     "model_name": "LayoutModel",
     "model_module_version": "1.2.0",
     "state": {
      "_model_module": "@jupyter-widgets/base",
      "_model_module_version": "1.2.0",
      "_model_name": "LayoutModel",
      "_view_count": null,
      "_view_module": "@jupyter-widgets/base",
      "_view_module_version": "1.2.0",
      "_view_name": "LayoutView",
      "align_content": null,
      "align_items": "center",
      "align_self": null,
      "border": null,
      "bottom": null,
      "display": "flex",
      "flex": null,
      "flex_flow": "column",
      "grid_area": null,
      "grid_auto_columns": null,
      "grid_auto_flow": null,
      "grid_auto_rows": null,
      "grid_column": null,
      "grid_gap": null,
      "grid_row": null,
      "grid_template_areas": null,
      "grid_template_columns": null,
      "grid_template_rows": null,
      "height": null,
      "justify_content": null,
      "justify_items": null,
      "left": null,
      "margin": null,
      "max_height": null,
      "max_width": null,
      "min_height": null,
      "min_width": null,
      "object_fit": null,
      "object_position": null,
      "order": null,
      "overflow": null,
      "overflow_x": null,
      "overflow_y": null,
      "padding": null,
      "right": null,
      "top": null,
      "visibility": null,
      "width": "50%"
     }
    },
    "b932f21a4deb466696af0bec9dc85f21": {
     "model_module": "@jupyter-widgets/base",
     "model_name": "LayoutModel",
     "model_module_version": "1.2.0",
     "state": {
      "_model_module": "@jupyter-widgets/base",
      "_model_module_version": "1.2.0",
      "_model_name": "LayoutModel",
      "_view_count": null,
      "_view_module": "@jupyter-widgets/base",
      "_view_module_version": "1.2.0",
      "_view_name": "LayoutView",
      "align_content": null,
      "align_items": null,
      "align_self": null,
      "border": null,
      "bottom": null,
      "display": null,
      "flex": null,
      "flex_flow": null,
      "grid_area": null,
      "grid_auto_columns": null,
      "grid_auto_flow": null,
      "grid_auto_rows": null,
      "grid_column": null,
      "grid_gap": null,
      "grid_row": null,
      "grid_template_areas": null,
      "grid_template_columns": null,
      "grid_template_rows": null,
      "height": null,
      "justify_content": null,
      "justify_items": null,
      "left": null,
      "margin": null,
      "max_height": null,
      "max_width": null,
      "min_height": null,
      "min_width": null,
      "object_fit": null,
      "object_position": null,
      "order": null,
      "overflow": null,
      "overflow_x": null,
      "overflow_y": null,
      "padding": null,
      "right": null,
      "top": null,
      "visibility": null,
      "width": null
     }
    },
    "d28d858daeca4c50b538bd954379ea64": {
     "model_module": "@jupyter-widgets/controls",
     "model_name": "DescriptionStyleModel",
     "model_module_version": "1.5.0",
     "state": {
      "_model_module": "@jupyter-widgets/controls",
      "_model_module_version": "1.5.0",
      "_model_name": "DescriptionStyleModel",
      "_view_count": null,
      "_view_module": "@jupyter-widgets/base",
      "_view_module_version": "1.2.0",
      "_view_name": "StyleView",
      "description_width": ""
     }
    },
    "38b157dd89c449d9aa75f738967aee6f": {
     "model_module": "@jupyter-widgets/base",
     "model_name": "LayoutModel",
     "model_module_version": "1.2.0",
     "state": {
      "_model_module": "@jupyter-widgets/base",
      "_model_module_version": "1.2.0",
      "_model_name": "LayoutModel",
      "_view_count": null,
      "_view_module": "@jupyter-widgets/base",
      "_view_module_version": "1.2.0",
      "_view_name": "LayoutView",
      "align_content": null,
      "align_items": null,
      "align_self": null,
      "border": null,
      "bottom": null,
      "display": null,
      "flex": null,
      "flex_flow": null,
      "grid_area": null,
      "grid_auto_columns": null,
      "grid_auto_flow": null,
      "grid_auto_rows": null,
      "grid_column": null,
      "grid_gap": null,
      "grid_row": null,
      "grid_template_areas": null,
      "grid_template_columns": null,
      "grid_template_rows": null,
      "height": null,
      "justify_content": null,
      "justify_items": null,
      "left": null,
      "margin": null,
      "max_height": null,
      "max_width": null,
      "min_height": null,
      "min_width": null,
      "object_fit": null,
      "object_position": null,
      "order": null,
      "overflow": null,
      "overflow_x": null,
      "overflow_y": null,
      "padding": null,
      "right": null,
      "top": null,
      "visibility": null,
      "width": null
     }
    },
    "482d825fd43446998373586e20d23df3": {
     "model_module": "@jupyter-widgets/controls",
     "model_name": "DescriptionStyleModel",
     "model_module_version": "1.5.0",
     "state": {
      "_model_module": "@jupyter-widgets/controls",
      "_model_module_version": "1.5.0",
      "_model_name": "DescriptionStyleModel",
      "_view_count": null,
      "_view_module": "@jupyter-widgets/base",
      "_view_module_version": "1.2.0",
      "_view_name": "StyleView",
      "description_width": ""
     }
    },
    "533a28ca5cdf4086998941bd91e0ee67": {
     "model_module": "@jupyter-widgets/base",
     "model_name": "LayoutModel",
     "model_module_version": "1.2.0",
     "state": {
      "_model_module": "@jupyter-widgets/base",
      "_model_module_version": "1.2.0",
      "_model_name": "LayoutModel",
      "_view_count": null,
      "_view_module": "@jupyter-widgets/base",
      "_view_module_version": "1.2.0",
      "_view_name": "LayoutView",
      "align_content": null,
      "align_items": null,
      "align_self": null,
      "border": null,
      "bottom": null,
      "display": null,
      "flex": null,
      "flex_flow": null,
      "grid_area": null,
      "grid_auto_columns": null,
      "grid_auto_flow": null,
      "grid_auto_rows": null,
      "grid_column": null,
      "grid_gap": null,
      "grid_row": null,
      "grid_template_areas": null,
      "grid_template_columns": null,
      "grid_template_rows": null,
      "height": null,
      "justify_content": null,
      "justify_items": null,
      "left": null,
      "margin": null,
      "max_height": null,
      "max_width": null,
      "min_height": null,
      "min_width": null,
      "object_fit": null,
      "object_position": null,
      "order": null,
      "overflow": null,
      "overflow_x": null,
      "overflow_y": null,
      "padding": null,
      "right": null,
      "top": null,
      "visibility": null,
      "width": null
     }
    },
    "f211696d128d4eb78657b3a2bc6ef706": {
     "model_module": "@jupyter-widgets/controls",
     "model_name": "DescriptionStyleModel",
     "model_module_version": "1.5.0",
     "state": {
      "_model_module": "@jupyter-widgets/controls",
      "_model_module_version": "1.5.0",
      "_model_name": "DescriptionStyleModel",
      "_view_count": null,
      "_view_module": "@jupyter-widgets/base",
      "_view_module_version": "1.2.0",
      "_view_name": "StyleView",
      "description_width": ""
     }
    },
    "4af746dcf5fa496b83aae824854069ca": {
     "model_module": "@jupyter-widgets/base",
     "model_name": "LayoutModel",
     "model_module_version": "1.2.0",
     "state": {
      "_model_module": "@jupyter-widgets/base",
      "_model_module_version": "1.2.0",
      "_model_name": "LayoutModel",
      "_view_count": null,
      "_view_module": "@jupyter-widgets/base",
      "_view_module_version": "1.2.0",
      "_view_name": "LayoutView",
      "align_content": null,
      "align_items": null,
      "align_self": null,
      "border": null,
      "bottom": null,
      "display": null,
      "flex": null,
      "flex_flow": null,
      "grid_area": null,
      "grid_auto_columns": null,
      "grid_auto_flow": null,
      "grid_auto_rows": null,
      "grid_column": null,
      "grid_gap": null,
      "grid_row": null,
      "grid_template_areas": null,
      "grid_template_columns": null,
      "grid_template_rows": null,
      "height": null,
      "justify_content": null,
      "justify_items": null,
      "left": null,
      "margin": null,
      "max_height": null,
      "max_width": null,
      "min_height": null,
      "min_width": null,
      "object_fit": null,
      "object_position": null,
      "order": null,
      "overflow": null,
      "overflow_x": null,
      "overflow_y": null,
      "padding": null,
      "right": null,
      "top": null,
      "visibility": null,
      "width": null
     }
    },
    "8019d6c8c6f541da8ede43a6839a971b": {
     "model_module": "@jupyter-widgets/controls",
     "model_name": "ButtonStyleModel",
     "model_module_version": "1.5.0",
     "state": {
      "_model_module": "@jupyter-widgets/controls",
      "_model_module_version": "1.5.0",
      "_model_name": "ButtonStyleModel",
      "_view_count": null,
      "_view_module": "@jupyter-widgets/base",
      "_view_module_version": "1.2.0",
      "_view_name": "StyleView",
      "button_color": null,
      "font_weight": ""
     }
    },
    "c8dd56a85c2f4190a269db8ff9731dc1": {
     "model_module": "@jupyter-widgets/base",
     "model_name": "LayoutModel",
     "model_module_version": "1.2.0",
     "state": {
      "_model_module": "@jupyter-widgets/base",
      "_model_module_version": "1.2.0",
      "_model_name": "LayoutModel",
      "_view_count": null,
      "_view_module": "@jupyter-widgets/base",
      "_view_module_version": "1.2.0",
      "_view_name": "LayoutView",
      "align_content": null,
      "align_items": null,
      "align_self": null,
      "border": null,
      "bottom": null,
      "display": null,
      "flex": null,
      "flex_flow": null,
      "grid_area": null,
      "grid_auto_columns": null,
      "grid_auto_flow": null,
      "grid_auto_rows": null,
      "grid_column": null,
      "grid_gap": null,
      "grid_row": null,
      "grid_template_areas": null,
      "grid_template_columns": null,
      "grid_template_rows": null,
      "height": null,
      "justify_content": null,
      "justify_items": null,
      "left": null,
      "margin": null,
      "max_height": null,
      "max_width": null,
      "min_height": null,
      "min_width": null,
      "object_fit": null,
      "object_position": null,
      "order": null,
      "overflow": null,
      "overflow_x": null,
      "overflow_y": null,
      "padding": null,
      "right": null,
      "top": null,
      "visibility": null,
      "width": null
     }
    },
    "99901b8179e1441882b8147eb095747d": {
     "model_module": "@jupyter-widgets/controls",
     "model_name": "DescriptionStyleModel",
     "model_module_version": "1.5.0",
     "state": {
      "_model_module": "@jupyter-widgets/controls",
      "_model_module_version": "1.5.0",
      "_model_name": "DescriptionStyleModel",
      "_view_count": null,
      "_view_module": "@jupyter-widgets/base",
      "_view_module_version": "1.2.0",
      "_view_name": "StyleView",
      "description_width": ""
     }
    },
    "57752e7f72b44465a0908ddfe07a01bf": {
     "model_module": "@jupyter-widgets/controls",
     "model_name": "LabelModel",
     "model_module_version": "1.5.0",
     "state": {
      "_dom_classes": [],
      "_model_module": "@jupyter-widgets/controls",
      "_model_module_version": "1.5.0",
      "_model_name": "LabelModel",
      "_view_count": null,
      "_view_module": "@jupyter-widgets/controls",
      "_view_module_version": "1.5.0",
      "_view_name": "LabelView",
      "description": "",
      "description_tooltip": null,
      "layout": "IPY_MODEL_95db7150324348dc98e130af2af4ff00",
      "placeholder": "​",
      "style": "IPY_MODEL_5dd01040a5b049ebb27132814a0ac25d",
      "value": "Connecting..."
     }
    },
    "95db7150324348dc98e130af2af4ff00": {
     "model_module": "@jupyter-widgets/base",
     "model_name": "LayoutModel",
     "model_module_version": "1.2.0",
     "state": {
      "_model_module": "@jupyter-widgets/base",
      "_model_module_version": "1.2.0",
      "_model_name": "LayoutModel",
      "_view_count": null,
      "_view_module": "@jupyter-widgets/base",
      "_view_module_version": "1.2.0",
      "_view_name": "LayoutView",
      "align_content": null,
      "align_items": null,
      "align_self": null,
      "border": null,
      "bottom": null,
      "display": null,
      "flex": null,
      "flex_flow": null,
      "grid_area": null,
      "grid_auto_columns": null,
      "grid_auto_flow": null,
      "grid_auto_rows": null,
      "grid_column": null,
      "grid_gap": null,
      "grid_row": null,
      "grid_template_areas": null,
      "grid_template_columns": null,
      "grid_template_rows": null,
      "height": null,
      "justify_content": null,
      "justify_items": null,
      "left": null,
      "margin": null,
      "max_height": null,
      "max_width": null,
      "min_height": null,
      "min_width": null,
      "object_fit": null,
      "object_position": null,
      "order": null,
      "overflow": null,
      "overflow_x": null,
      "overflow_y": null,
      "padding": null,
      "right": null,
      "top": null,
      "visibility": null,
      "width": null
     }
    },
    "5dd01040a5b049ebb27132814a0ac25d": {
     "model_module": "@jupyter-widgets/controls",
     "model_name": "DescriptionStyleModel",
     "model_module_version": "1.5.0",
     "state": {
      "_model_module": "@jupyter-widgets/controls",
      "_model_module_version": "1.5.0",
      "_model_name": "DescriptionStyleModel",
      "_view_count": null,
      "_view_module": "@jupyter-widgets/base",
      "_view_module_version": "1.2.0",
      "_view_name": "StyleView",
      "description_width": ""
     }
    }
   }
  }
 },
 "nbformat": 4,
 "nbformat_minor": 0
}
