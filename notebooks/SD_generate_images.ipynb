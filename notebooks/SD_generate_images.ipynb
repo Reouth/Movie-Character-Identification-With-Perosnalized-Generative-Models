{
 "cells": [
  {
   "cell_type": "markdown",
   "source": [
    "# **Image generation Using Stable diffusion framework**\n",
    "\n",
    "This notebook generates images given image-text embeddings. It supports single image and batch image creation. The notebook is structured to align with the objectives outlined in the thesis."
   ],
   "metadata": {
    "id": "0fe51gXk8oIB"
   }
  },
  {
   "cell_type": "markdown",
   "metadata": {
    "id": "8WkXfNrhifdi"
   },
   "source": [
    "## **1. Environment Setup**\n",
    "Install necessary libraries and clone the required repository."
   ]
  },
  {
   "cell_type": "code",
   "execution_count": null,
   "metadata": {
    "id": "Q3GrQYwSifdj"
   },
   "outputs": [],
   "source": [
    "!git clone https://github.com/Reouth/Movie-Character-Identification-With-Perosnalized-Generative-Models.git\n",
    "\n",
    "%pip install -qq git+https://github.com/huggingface/diffusers.git\n",
    "%pip install -q accelerate\n",
    "!pip install bitsandbytes"
   ]
  },
  {
   "cell_type": "markdown",
   "metadata": {
    "id": "EVnS7kScifdj"
   },
   "source": [
    "## **2. Import Libraries**\n",
    "Load necessary Python libraries and scripts."
   ]
  },
  {
   "cell_type": "code",
   "execution_count": null,
   "metadata": {
    "id": "-LzY3tQwifdj"
   },
   "outputs": [],
   "source": [
    "import os\n",
    "import torch\n",
    "import gc\n",
    "import configparser\n",
    "from torch import autocast\n",
    "import numpy as np\n",
    "\n",
    "# Change directory to cloned repository\n",
    "os.chdir('/content/Movie-Character-Identification-With-Perosnalized-Generative-Models')\n",
    "\n",
    "from models import Diffusion_generate\n",
    "from src import data_upload\n",
    "from src import helper_functions\n"
   ]
  },
  {
   "cell_type": "markdown",
   "metadata": {
    "id": "M_dl_0Soifdj"
   },
   "source": [
    "## **3. Configure Authentication**\n",
    "Login to Hugging Face to access the Stable Diffusion model."
   ]
  },
  {
   "cell_type": "code",
   "execution_count": null,
   "metadata": {
    "colab": {
     "base_uri": "https://localhost:8080/",
     "height": 17,
     "referenced_widgets": [
      "3221a3c1bc5f4225bad0a197979234c3",
      "00522a4342bc4b738a5f72f8e1f91b04",
      "09fc1cd1d42749c59792b3931662f3b3",
      "635ff8bbf0ce441babb7222060e412d9",
      "fbb2933716494b0193e430ccce11617c",
      "a2e3572bcd6c4a3e9c0e556188a08b1e",
      "96562d34e5314cc099942e3290569657",
      "70837a45e6c64ee3959f16d33183e459",
      "6bfe61ff41654855b04ba430ebe5a9df",
      "0d3a093ef23a41278a230ad186e08f9c",
      "8b750ae6ed714405b7fa55c9c0543ed6",
      "5bb763182cdf4ea2b2fbcc80b9722b6d",
      "bef7516d6f854d748686c563777ada21",
      "ab01b7e0fad54f9892605da89b4b5c8b",
      "aebc834fd55d41b6aee75aafdea87558",
      "ffbbb036319d45d8b8817441a2a14450",
      "ea6eb9594e7a4d5cb1b38aa793283250",
      "1a2a1f106c644c849ae3997d57b042cd",
      "ecde93db300c48b7b5a981a1eafac807",
      "8c09a809a89d4d6481041bffeb0efeab"
     ]
    },
    "id": "5m9Csge2ifdk",
    "outputId": "5af64892-2e72-44c1-fdb7-6ad3fc971b85"
   },
   "outputs": [
    {
     "output_type": "display_data",
     "data": {
      "text/plain": [
       "VBox(children=(HTML(value='<center> <img\\nsrc=https://huggingface.co/front/assets/huggingface_logo-noborder.sv…"
      ],
      "application/vnd.jupyter.widget-view+json": {
       "version_major": 2,
       "version_minor": 0,
       "model_id": "3221a3c1bc5f4225bad0a197979234c3"
      }
     },
     "metadata": {}
    }
   ],
   "source": [
    "from huggingface_hub import notebook_login\n",
    "!git config --global credential.helper store\n",
    "notebook_login()"
   ]
  },
  {
   "cell_type": "markdown",
   "metadata": {
    "id": "uiEmG7NVifdk"
   },
   "source": [
    "## **4. Mount Google Drive**\n",
    "Store and retrieve files from Google Drive."
   ]
  },
  {
   "cell_type": "code",
   "execution_count": null,
   "metadata": {
    "colab": {
     "base_uri": "https://localhost:8080/"
    },
    "id": "OKWHYOS_ifdk",
    "outputId": "6dfbfefd-d93c-4d89-ba99-37264f7772a2"
   },
   "outputs": [
    {
     "output_type": "stream",
     "name": "stdout",
     "text": [
      "Mounted at /content/drive\n"
     ]
    }
   ],
   "source": [
    "from google.colab import drive\n",
    "drive.mount('/content/drive')"
   ]
  },
  {
   "cell_type": "markdown",
   "metadata": {
    "id": "PJqY5FW-ifdk"
   },
   "source": [
    "## **5. Configuration**\n",
    "Set model parameters and input/output paths.\n",
    "\n",
    "*   cat_embeds: True for creating character avergage embedding (category embeds) OR False for all embeds in folder\n",
    "*   Imagic_pipe: True for imagic pipine OR False for SD pipeline"
   ]
  },
  {
   "cell_type": "code",
   "source": [
    "# Configuration\n",
    "\n",
    "num_inference_steps = 50  #@param {type:\"number\"}\n",
    "resolution = 512  #@param {type:\"number\"}\n",
    "height = 512  #@param {type:\"number\"}\n",
    "width = 512  #@param {type:\"number\"}\n",
    "seed_range = [0]  #@param {type:\"raw\"}\n",
    "alpha_range = np.arange(0, 1, 0.05)  #@param {type:\"raw\"}\n",
    "guidance_scale_range = list(np.arange(0, 10, 0.5))  #@param {type:\"raw\"}\n",
    "cat_embeds = False  #@param {type:\"boolean\"}\n",
    "Imagic_pipe = True  #@param {type:\"boolean\"}\n",
    "SD_model_name = 'CompVis/stable-diffusion-v1-4'\n",
    "CLIP_model_name = 'openai/clip-vit-large-patch14'\n",
    "device = \"cuda\" if torch.cuda.is_available() else \"cpu\"\n"
   ],
   "metadata": {
    "cellView": "form",
    "id": "bUrx8EimuThT"
   },
   "execution_count": null,
   "outputs": []
  },
  {
   "cell_type": "code",
   "source": [
    "# Path configurations\n",
    "output_dir = '/content/drive/MyDrive/thesis_OO_SD/Fabelmans_movie/generated_images/mixed_model_embeds'#@param {type:\"string\"} #output main folder\n",
    "os.makedirs(output_dir,exist_ok=True)\n",
    "input_embeddings_path =  '/content/drive/MyDrive/thesis_OO_SD/Fabelmans_movie/Imagic_embeddings/4_ID/1024res/embeds_with_pipe' #@param {type:\"string\"} #input main folder\n",
    "\n",
    "text_prompts  =  [\"a_red_filtered_photo_of_a_person\",\"a photo with a red filter on it\", \"a red filtered photo\"] #@param {type:\"raw\"}  # add text prompts to generate here (correlates to embedings text)\n",
    "\n",
    "\n",
    "# input/output path creation\n",
    "input_dirs=[]\n",
    "output_dirs=[]\n",
    "\n",
    "for text in text_prompts:\n",
    "  input_dirs.append(os.path.join(imagic_pretrained_path,text.replace(\" \",\"_\")))\n",
    "  output_dirs.append(os.path.join(dir,text.replace(\" \",\"_\")))"
   ],
   "metadata": {
    "cellView": "form",
    "id": "aApeFXgzsang"
   },
   "execution_count": null,
   "outputs": []
  },
  {
   "cell_type": "markdown",
   "metadata": {
    "id": "MGSHvambks9C"
   },
   "source": [
    "## **6. Generator**\n",
    "Run Generateor for multiple image generation for image_text embeddings"
   ]
  },
  {
   "cell_type": "code",
   "execution_count": null,
   "metadata": {
    "id": "oc9C_9If6_gF"
   },
   "outputs": [],
   "source": [
    "#@title multiple images generator\n",
    "\n",
    "for input_dir, output_dir in zip(input_dirs,output_dirs):\n",
    "  os.makedirs(output_dir,exist_ok=True)\n",
    "  if cat_embeds:\n",
    "    imagic_cat_embeds = data_upload.upload_cat_embeds(input_dir,CLIP_model_name, device)\n",
    "    all_embeds = list(imagic_cat_embeds.keys())\n",
    "  else:\n",
    "    all_files = set(os.listdir(input_dir))\n",
    "    imagic_cat_embeds=None\n",
    "  SD_model.all_generator(all_files,output_dir,input_dir,Imagic_pipe,SD_model_name, CLIP_model_name, device,\n",
    "                    seed_range,alpha_range,guidance_scale_range,imagic_cat_embeds)\n",
    "\n"
   ]
  }
 ],
 "metadata": {
  "accelerator": "GPU",
  "colab": {
   "collapsed_sections": [
    "7wVQiRlPG2XI",
    "3IfhQtN8GxYR",
    "_uO1ZfssUZTk",
    "8yQvm6gKSkpl"
   ],
   "gpuType": "T4",
   "provenance": [],
   "machine_shape": "hm"
  },
  "kernelspec": {
   "display_name": "Python 3",
   "name": "python3"
  },
  "language_info": {
   "name": "python"
  },
  "widgets": {
   "application/vnd.jupyter.widget-state+json": {
    "3221a3c1bc5f4225bad0a197979234c3": {
     "model_module": "@jupyter-widgets/controls",
     "model_name": "VBoxModel",
     "model_module_version": "1.5.0",
     "state": {
      "_dom_classes": [],
      "_model_module": "@jupyter-widgets/controls",
      "_model_module_version": "1.5.0",
      "_model_name": "VBoxModel",
      "_view_count": null,
      "_view_module": "@jupyter-widgets/controls",
      "_view_module_version": "1.5.0",
      "_view_name": "VBoxView",
      "box_style": "",
      "children": [],
      "layout": "IPY_MODEL_96562d34e5314cc099942e3290569657"
     }
    },
    "00522a4342bc4b738a5f72f8e1f91b04": {
     "model_module": "@jupyter-widgets/controls",
     "model_name": "HTMLModel",
     "model_module_version": "1.5.0",
     "state": {
      "_dom_classes": [],
      "_model_module": "@jupyter-widgets/controls",
      "_model_module_version": "1.5.0",
      "_model_name": "HTMLModel",
      "_view_count": null,
      "_view_module": "@jupyter-widgets/controls",
      "_view_module_version": "1.5.0",
      "_view_name": "HTMLView",
      "description": "",
      "description_tooltip": null,
      "layout": "IPY_MODEL_70837a45e6c64ee3959f16d33183e459",
      "placeholder": "​",
      "style": "IPY_MODEL_6bfe61ff41654855b04ba430ebe5a9df",
      "value": "<center> <img\nsrc=https://huggingface.co/front/assets/huggingface_logo-noborder.svg\nalt='Hugging Face'> <br> Copy a token from <a\nhref=\"https://huggingface.co/settings/tokens\" target=\"_blank\">your Hugging Face\ntokens page</a> and paste it below. <br> Immediately click login after copying\nyour token or it might be stored in plain text in this notebook file. </center>"
     }
    },
    "09fc1cd1d42749c59792b3931662f3b3": {
     "model_module": "@jupyter-widgets/controls",
     "model_name": "PasswordModel",
     "model_module_version": "1.5.0",
     "state": {
      "_dom_classes": [],
      "_model_module": "@jupyter-widgets/controls",
      "_model_module_version": "1.5.0",
      "_model_name": "PasswordModel",
      "_view_count": null,
      "_view_module": "@jupyter-widgets/controls",
      "_view_module_version": "1.5.0",
      "_view_name": "PasswordView",
      "continuous_update": true,
      "description": "Token:",
      "description_tooltip": null,
      "disabled": false,
      "layout": "IPY_MODEL_0d3a093ef23a41278a230ad186e08f9c",
      "placeholder": "​",
      "style": "IPY_MODEL_8b750ae6ed714405b7fa55c9c0543ed6",
      "value": ""
     }
    },
    "635ff8bbf0ce441babb7222060e412d9": {
     "model_module": "@jupyter-widgets/controls",
     "model_name": "CheckboxModel",
     "model_module_version": "1.5.0",
     "state": {
      "_dom_classes": [],
      "_model_module": "@jupyter-widgets/controls",
      "_model_module_version": "1.5.0",
      "_model_name": "CheckboxModel",
      "_view_count": null,
      "_view_module": "@jupyter-widgets/controls",
      "_view_module_version": "1.5.0",
      "_view_name": "CheckboxView",
      "description": "Add token as git credential?",
      "description_tooltip": null,
      "disabled": false,
      "indent": true,
      "layout": "IPY_MODEL_5bb763182cdf4ea2b2fbcc80b9722b6d",
      "style": "IPY_MODEL_bef7516d6f854d748686c563777ada21",
      "value": true
     }
    },
    "fbb2933716494b0193e430ccce11617c": {
     "model_module": "@jupyter-widgets/controls",
     "model_name": "ButtonModel",
     "model_module_version": "1.5.0",
     "state": {
      "_dom_classes": [],
      "_model_module": "@jupyter-widgets/controls",
      "_model_module_version": "1.5.0",
      "_model_name": "ButtonModel",
      "_view_count": null,
      "_view_module": "@jupyter-widgets/controls",
      "_view_module_version": "1.5.0",
      "_view_name": "ButtonView",
      "button_style": "",
      "description": "Login",
      "disabled": false,
      "icon": "",
      "layout": "IPY_MODEL_ab01b7e0fad54f9892605da89b4b5c8b",
      "style": "IPY_MODEL_aebc834fd55d41b6aee75aafdea87558",
      "tooltip": ""
     }
    },
    "a2e3572bcd6c4a3e9c0e556188a08b1e": {
     "model_module": "@jupyter-widgets/controls",
     "model_name": "HTMLModel",
     "model_module_version": "1.5.0",
     "state": {
      "_dom_classes": [],
      "_model_module": "@jupyter-widgets/controls",
      "_model_module_version": "1.5.0",
      "_model_name": "HTMLModel",
      "_view_count": null,
      "_view_module": "@jupyter-widgets/controls",
      "_view_module_version": "1.5.0",
      "_view_name": "HTMLView",
      "description": "",
      "description_tooltip": null,
      "layout": "IPY_MODEL_ffbbb036319d45d8b8817441a2a14450",
      "placeholder": "​",
      "style": "IPY_MODEL_ea6eb9594e7a4d5cb1b38aa793283250",
      "value": "\n<b>Pro Tip:</b> If you don't already have one, you can create a dedicated\n'notebooks' token with 'write' access, that you can then easily reuse for all\nnotebooks. </center>"
     }
    },
    "96562d34e5314cc099942e3290569657": {
     "model_module": "@jupyter-widgets/base",
     "model_name": "LayoutModel",
     "model_module_version": "1.2.0",
     "state": {
      "_model_module": "@jupyter-widgets/base",
      "_model_module_version": "1.2.0",
      "_model_name": "LayoutModel",
      "_view_count": null,
      "_view_module": "@jupyter-widgets/base",
      "_view_module_version": "1.2.0",
      "_view_name": "LayoutView",
      "align_content": null,
      "align_items": "center",
      "align_self": null,
      "border": null,
      "bottom": null,
      "display": "flex",
      "flex": null,
      "flex_flow": "column",
      "grid_area": null,
      "grid_auto_columns": null,
      "grid_auto_flow": null,
      "grid_auto_rows": null,
      "grid_column": null,
      "grid_gap": null,
      "grid_row": null,
      "grid_template_areas": null,
      "grid_template_columns": null,
      "grid_template_rows": null,
      "height": null,
      "justify_content": null,
      "justify_items": null,
      "left": null,
      "margin": null,
      "max_height": null,
      "max_width": null,
      "min_height": null,
      "min_width": null,
      "object_fit": null,
      "object_position": null,
      "order": null,
      "overflow": null,
      "overflow_x": null,
      "overflow_y": null,
      "padding": null,
      "right": null,
      "top": null,
      "visibility": null,
      "width": "50%"
     }
    },
    "70837a45e6c64ee3959f16d33183e459": {
     "model_module": "@jupyter-widgets/base",
     "model_name": "LayoutModel",
     "model_module_version": "1.2.0",
     "state": {
      "_model_module": "@jupyter-widgets/base",
      "_model_module_version": "1.2.0",
      "_model_name": "LayoutModel",
      "_view_count": null,
      "_view_module": "@jupyter-widgets/base",
      "_view_module_version": "1.2.0",
      "_view_name": "LayoutView",
      "align_content": null,
      "align_items": null,
      "align_self": null,
      "border": null,
      "bottom": null,
      "display": null,
      "flex": null,
      "flex_flow": null,
      "grid_area": null,
      "grid_auto_columns": null,
      "grid_auto_flow": null,
      "grid_auto_rows": null,
      "grid_column": null,
      "grid_gap": null,
      "grid_row": null,
      "grid_template_areas": null,
      "grid_template_columns": null,
      "grid_template_rows": null,
      "height": null,
      "justify_content": null,
      "justify_items": null,
      "left": null,
      "margin": null,
      "max_height": null,
      "max_width": null,
      "min_height": null,
      "min_width": null,
      "object_fit": null,
      "object_position": null,
      "order": null,
      "overflow": null,
      "overflow_x": null,
      "overflow_y": null,
      "padding": null,
      "right": null,
      "top": null,
      "visibility": null,
      "width": null
     }
    },
    "6bfe61ff41654855b04ba430ebe5a9df": {
     "model_module": "@jupyter-widgets/controls",
     "model_name": "DescriptionStyleModel",
     "model_module_version": "1.5.0",
     "state": {
      "_model_module": "@jupyter-widgets/controls",
      "_model_module_version": "1.5.0",
      "_model_name": "DescriptionStyleModel",
      "_view_count": null,
      "_view_module": "@jupyter-widgets/base",
      "_view_module_version": "1.2.0",
      "_view_name": "StyleView",
      "description_width": ""
     }
    },
    "0d3a093ef23a41278a230ad186e08f9c": {
     "model_module": "@jupyter-widgets/base",
     "model_name": "LayoutModel",
     "model_module_version": "1.2.0",
     "state": {
      "_model_module": "@jupyter-widgets/base",
      "_model_module_version": "1.2.0",
      "_model_name": "LayoutModel",
      "_view_count": null,
      "_view_module": "@jupyter-widgets/base",
      "_view_module_version": "1.2.0",
      "_view_name": "LayoutView",
      "align_content": null,
      "align_items": null,
      "align_self": null,
      "border": null,
      "bottom": null,
      "display": null,
      "flex": null,
      "flex_flow": null,
      "grid_area": null,
      "grid_auto_columns": null,
      "grid_auto_flow": null,
      "grid_auto_rows": null,
      "grid_column": null,
      "grid_gap": null,
      "grid_row": null,
      "grid_template_areas": null,
      "grid_template_columns": null,
      "grid_template_rows": null,
      "height": null,
      "justify_content": null,
      "justify_items": null,
      "left": null,
      "margin": null,
      "max_height": null,
      "max_width": null,
      "min_height": null,
      "min_width": null,
      "object_fit": null,
      "object_position": null,
      "order": null,
      "overflow": null,
      "overflow_x": null,
      "overflow_y": null,
      "padding": null,
      "right": null,
      "top": null,
      "visibility": null,
      "width": null
     }
    },
    "8b750ae6ed714405b7fa55c9c0543ed6": {
     "model_module": "@jupyter-widgets/controls",
     "model_name": "DescriptionStyleModel",
     "model_module_version": "1.5.0",
     "state": {
      "_model_module": "@jupyter-widgets/controls",
      "_model_module_version": "1.5.0",
      "_model_name": "DescriptionStyleModel",
      "_view_count": null,
      "_view_module": "@jupyter-widgets/base",
      "_view_module_version": "1.2.0",
      "_view_name": "StyleView",
      "description_width": ""
     }
    },
    "5bb763182cdf4ea2b2fbcc80b9722b6d": {
     "model_module": "@jupyter-widgets/base",
     "model_name": "LayoutModel",
     "model_module_version": "1.2.0",
     "state": {
      "_model_module": "@jupyter-widgets/base",
      "_model_module_version": "1.2.0",
      "_model_name": "LayoutModel",
      "_view_count": null,
      "_view_module": "@jupyter-widgets/base",
      "_view_module_version": "1.2.0",
      "_view_name": "LayoutView",
      "align_content": null,
      "align_items": null,
      "align_self": null,
      "border": null,
      "bottom": null,
      "display": null,
      "flex": null,
      "flex_flow": null,
      "grid_area": null,
      "grid_auto_columns": null,
      "grid_auto_flow": null,
      "grid_auto_rows": null,
      "grid_column": null,
      "grid_gap": null,
      "grid_row": null,
      "grid_template_areas": null,
      "grid_template_columns": null,
      "grid_template_rows": null,
      "height": null,
      "justify_content": null,
      "justify_items": null,
      "left": null,
      "margin": null,
      "max_height": null,
      "max_width": null,
      "min_height": null,
      "min_width": null,
      "object_fit": null,
      "object_position": null,
      "order": null,
      "overflow": null,
      "overflow_x": null,
      "overflow_y": null,
      "padding": null,
      "right": null,
      "top": null,
      "visibility": null,
      "width": null
     }
    },
    "bef7516d6f854d748686c563777ada21": {
     "model_module": "@jupyter-widgets/controls",
     "model_name": "DescriptionStyleModel",
     "model_module_version": "1.5.0",
     "state": {
      "_model_module": "@jupyter-widgets/controls",
      "_model_module_version": "1.5.0",
      "_model_name": "DescriptionStyleModel",
      "_view_count": null,
      "_view_module": "@jupyter-widgets/base",
      "_view_module_version": "1.2.0",
      "_view_name": "StyleView",
      "description_width": ""
     }
    },
    "ab01b7e0fad54f9892605da89b4b5c8b": {
     "model_module": "@jupyter-widgets/base",
     "model_name": "LayoutModel",
     "model_module_version": "1.2.0",
     "state": {
      "_model_module": "@jupyter-widgets/base",
      "_model_module_version": "1.2.0",
      "_model_name": "LayoutModel",
      "_view_count": null,
      "_view_module": "@jupyter-widgets/base",
      "_view_module_version": "1.2.0",
      "_view_name": "LayoutView",
      "align_content": null,
      "align_items": null,
      "align_self": null,
      "border": null,
      "bottom": null,
      "display": null,
      "flex": null,
      "flex_flow": null,
      "grid_area": null,
      "grid_auto_columns": null,
      "grid_auto_flow": null,
      "grid_auto_rows": null,
      "grid_column": null,
      "grid_gap": null,
      "grid_row": null,
      "grid_template_areas": null,
      "grid_template_columns": null,
      "grid_template_rows": null,
      "height": null,
      "justify_content": null,
      "justify_items": null,
      "left": null,
      "margin": null,
      "max_height": null,
      "max_width": null,
      "min_height": null,
      "min_width": null,
      "object_fit": null,
      "object_position": null,
      "order": null,
      "overflow": null,
      "overflow_x": null,
      "overflow_y": null,
      "padding": null,
      "right": null,
      "top": null,
      "visibility": null,
      "width": null
     }
    },
    "aebc834fd55d41b6aee75aafdea87558": {
     "model_module": "@jupyter-widgets/controls",
     "model_name": "ButtonStyleModel",
     "model_module_version": "1.5.0",
     "state": {
      "_model_module": "@jupyter-widgets/controls",
      "_model_module_version": "1.5.0",
      "_model_name": "ButtonStyleModel",
      "_view_count": null,
      "_view_module": "@jupyter-widgets/base",
      "_view_module_version": "1.2.0",
      "_view_name": "StyleView",
      "button_color": null,
      "font_weight": ""
     }
    },
    "ffbbb036319d45d8b8817441a2a14450": {
     "model_module": "@jupyter-widgets/base",
     "model_name": "LayoutModel",
     "model_module_version": "1.2.0",
     "state": {
      "_model_module": "@jupyter-widgets/base",
      "_model_module_version": "1.2.0",
      "_model_name": "LayoutModel",
      "_view_count": null,
      "_view_module": "@jupyter-widgets/base",
      "_view_module_version": "1.2.0",
      "_view_name": "LayoutView",
      "align_content": null,
      "align_items": null,
      "align_self": null,
      "border": null,
      "bottom": null,
      "display": null,
      "flex": null,
      "flex_flow": null,
      "grid_area": null,
      "grid_auto_columns": null,
      "grid_auto_flow": null,
      "grid_auto_rows": null,
      "grid_column": null,
      "grid_gap": null,
      "grid_row": null,
      "grid_template_areas": null,
      "grid_template_columns": null,
      "grid_template_rows": null,
      "height": null,
      "justify_content": null,
      "justify_items": null,
      "left": null,
      "margin": null,
      "max_height": null,
      "max_width": null,
      "min_height": null,
      "min_width": null,
      "object_fit": null,
      "object_position": null,
      "order": null,
      "overflow": null,
      "overflow_x": null,
      "overflow_y": null,
      "padding": null,
      "right": null,
      "top": null,
      "visibility": null,
      "width": null
     }
    },
    "ea6eb9594e7a4d5cb1b38aa793283250": {
     "model_module": "@jupyter-widgets/controls",
     "model_name": "DescriptionStyleModel",
     "model_module_version": "1.5.0",
     "state": {
      "_model_module": "@jupyter-widgets/controls",
      "_model_module_version": "1.5.0",
      "_model_name": "DescriptionStyleModel",
      "_view_count": null,
      "_view_module": "@jupyter-widgets/base",
      "_view_module_version": "1.2.0",
      "_view_name": "StyleView",
      "description_width": ""
     }
    },
    "1a2a1f106c644c849ae3997d57b042cd": {
     "model_module": "@jupyter-widgets/controls",
     "model_name": "LabelModel",
     "model_module_version": "1.5.0",
     "state": {
      "_dom_classes": [],
      "_model_module": "@jupyter-widgets/controls",
      "_model_module_version": "1.5.0",
      "_model_name": "LabelModel",
      "_view_count": null,
      "_view_module": "@jupyter-widgets/controls",
      "_view_module_version": "1.5.0",
      "_view_name": "LabelView",
      "description": "",
      "description_tooltip": null,
      "layout": "IPY_MODEL_ecde93db300c48b7b5a981a1eafac807",
      "placeholder": "​",
      "style": "IPY_MODEL_8c09a809a89d4d6481041bffeb0efeab",
      "value": "Connecting..."
     }
    },
    "ecde93db300c48b7b5a981a1eafac807": {
     "model_module": "@jupyter-widgets/base",
     "model_name": "LayoutModel",
     "model_module_version": "1.2.0",
     "state": {
      "_model_module": "@jupyter-widgets/base",
      "_model_module_version": "1.2.0",
      "_model_name": "LayoutModel",
      "_view_count": null,
      "_view_module": "@jupyter-widgets/base",
      "_view_module_version": "1.2.0",
      "_view_name": "LayoutView",
      "align_content": null,
      "align_items": null,
      "align_self": null,
      "border": null,
      "bottom": null,
      "display": null,
      "flex": null,
      "flex_flow": null,
      "grid_area": null,
      "grid_auto_columns": null,
      "grid_auto_flow": null,
      "grid_auto_rows": null,
      "grid_column": null,
      "grid_gap": null,
      "grid_row": null,
      "grid_template_areas": null,
      "grid_template_columns": null,
      "grid_template_rows": null,
      "height": null,
      "justify_content": null,
      "justify_items": null,
      "left": null,
      "margin": null,
      "max_height": null,
      "max_width": null,
      "min_height": null,
      "min_width": null,
      "object_fit": null,
      "object_position": null,
      "order": null,
      "overflow": null,
      "overflow_x": null,
      "overflow_y": null,
      "padding": null,
      "right": null,
      "top": null,
      "visibility": null,
      "width": null
     }
    },
    "8c09a809a89d4d6481041bffeb0efeab": {
     "model_module": "@jupyter-widgets/controls",
     "model_name": "DescriptionStyleModel",
     "model_module_version": "1.5.0",
     "state": {
      "_model_module": "@jupyter-widgets/controls",
      "_model_module_version": "1.5.0",
      "_model_name": "DescriptionStyleModel",
      "_view_count": null,
      "_view_module": "@jupyter-widgets/base",
      "_view_module_version": "1.2.0",
      "_view_name": "StyleView",
      "description_width": ""
     }
    }
   }
  }
 },
 "nbformat": 4,
 "nbformat_minor": 0
}
