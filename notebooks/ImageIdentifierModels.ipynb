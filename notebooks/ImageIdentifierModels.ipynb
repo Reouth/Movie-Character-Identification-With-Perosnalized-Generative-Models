{
  "cells": [
    {
      "cell_type": "markdown",
      "source": [
        "# **Image Identifier Models**\n",
        "\n",
        "This notebook is designed to evaluate and identify characters in movie frames using Generative and discrimiantive models. The notebook is structured to align with the objectives outlined in the thesis.\n",
        "\n"
      ],
      "metadata": {
        "id": "TdcknIXz5Xa4"
      }
    },
    {
      "cell_type": "markdown",
      "metadata": {
        "id": "8WkXfNrhifdi"
      },
      "source": [
        "## **1. Environment Setup**\n",
        "Install necessary libraries and clone the required repository."
      ]
    },
    {
      "cell_type": "code",
      "execution_count": null,
      "metadata": {
        "id": "Q3GrQYwSifdj"
      },
      "outputs": [],
      "source": [
        "!git clone https://github.com/Reouth/Movie-Character-Identification-With-Perosnalized-Generative-Models.git\n",
        "\n",
        "%pip install -qq git+https://github.com/huggingface/diffusers.git\n",
        "%pip install -q accelerate\n",
        "!pip install bitsandbytes\n",
        "!pip install git+https://github.com/openai/CLIP.git\n"
      ]
    },
    {
      "cell_type": "markdown",
      "metadata": {
        "id": "EVnS7kScifdj"
      },
      "source": [
        "## **2. Import Libraries**\n",
        "Load necessary Python libraries and scripts."
      ]
    },
    {
      "cell_type": "code",
      "execution_count": null,
      "metadata": {
        "id": "-LzY3tQwifdj"
      },
      "outputs": [],
      "source": [
        "import os\n",
        "import torch\n",
        "import gc\n",
        "import configparser\n",
        "from torch import autocast\n",
        "import numpy as np\n",
        "import pandas as pd\n",
        "\n",
        "# Change directory to cloned repository\n",
        "os.chdir('/content/Movie-Character-Identification-With-Perosnalized-Generative-Models')\n",
        "\n",
        "from models import clip_model\n",
        "from models import Diffusion_Identifier\n",
        "from src import data_upload\n",
        "from src import helper_functions\n"
      ]
    },
    {
      "cell_type": "markdown",
      "metadata": {
        "id": "M_dl_0Soifdj"
      },
      "source": [
        "## **3. Configure Authentication**\n",
        "Login to Hugging Face to access the Stable Diffusion model."
      ]
    },
    {
      "cell_type": "code",
      "execution_count": 10,
      "metadata": {
        "colab": {
          "base_uri": "https://localhost:8080/",
          "height": 17,
          "referenced_widgets": [
            "49857a1f7a2b411a9ef9a44a6a73db55",
            "e49b8f43b80a42949995e550a0255f9b",
            "08d7ac4a88894891857994ae3ffc40b0",
            "311f6014c653404cbd014c5858052959",
            "57677ede4398447a9196f6d0d9b770db",
            "d54bd189418345cfb868475362e7d4de",
            "71251a3342cd41acab2b42c4ccbc9dad",
            "9ded10e496134d44b369a96c91e1a351",
            "6349bdf0e0f34388a0129bfa8ffcc273",
            "3ac0f01f58bd40f3bd65e362fa8a263c",
            "cd9c70d65f1046f19e56768e7134c444",
            "7f2e25ef3c8844caa71a6e1ed6b4b6bb",
            "8bf93500d9214f0990bcf8148b67b09a",
            "f65c83f2143242edad15b0a22f2880c5",
            "9bef1738d26741a492ff7e84287e0503",
            "d8adef5ea7ed407b85616ebab1d162da",
            "465ceecc8bb342d0982d45ba0508a6dc",
            "443285edbe254c94bbd9acfbd868491d",
            "c38df4bbdb5048cb92724f5990abbbba",
            "2fc166184be045bb98f435ecd1f745d2"
          ]
        },
        "id": "5m9Csge2ifdk",
        "outputId": "154b6d12-995f-4903-ae28-c3d15d82ec35"
      },
      "outputs": [
        {
          "output_type": "display_data",
          "data": {
            "text/plain": [
              "VBox(children=(HTML(value='<center> <img\\nsrc=https://huggingface.co/front/assets/huggingface_logo-noborder.sv…"
            ],
            "application/vnd.jupyter.widget-view+json": {
              "version_major": 2,
              "version_minor": 0,
              "model_id": "49857a1f7a2b411a9ef9a44a6a73db55"
            }
          },
          "metadata": {}
        }
      ],
      "source": [
        "from huggingface_hub import notebook_login\n",
        "!git config --global credential.helper store\n",
        "notebook_login()"
      ]
    },
    {
      "cell_type": "markdown",
      "metadata": {
        "id": "uiEmG7NVifdk"
      },
      "source": [
        "## **4. Mount Google Drive**\n",
        "Store and retrieve files from Google Drive."
      ]
    },
    {
      "cell_type": "code",
      "execution_count": 4,
      "metadata": {
        "colab": {
          "base_uri": "https://localhost:8080/"
        },
        "id": "OKWHYOS_ifdk",
        "outputId": "fec203e7-2765-4318-fddd-f9d285de5580"
      },
      "outputs": [
        {
          "output_type": "stream",
          "name": "stdout",
          "text": [
            "Mounted at /content/drive\n"
          ]
        }
      ],
      "source": [
        "from google.colab import drive\n",
        "drive.mount('/content/drive')"
      ]
    },
    {
      "cell_type": "markdown",
      "metadata": {
        "id": "PJqY5FW-ifdk"
      },
      "source": [
        "\n",
        "## **5. General Configuration**\n"
      ]
    },
    {
      "cell_type": "markdown",
      "metadata": {
        "id": "pglU8TzJBRoc"
      },
      "source": [
        "\n",
        "**Input/output Path configurations and load**\n",
        "\n",
        "Note:\n",
        "* Input path for Diffusion model is ID image-text embedding folder\n",
        "* Input path for CLIP model is folder for ID images"
      ]
    },
    {
      "cell_type": "code",
      "source": [
        "\n",
        "\n",
        "output_dir = '/content/drive/MyDrive/thesis_OO_SD/testing/Fabelmans_movie/csv_results'#@param {type:\"string\"} #output main folder\n",
        "os.makedirs(output_dir,exist_ok=True)\n",
        "input_dir =  '/content/drive/MyDrive/thesis_OO_SD/Fabelmans_movie/Imagic_embeddings/4_ID/1024res/embeds_with_pipe' #@param {type:\"string\"} #input main folder\n",
        "\n",
        "text_prompts  =  [\"a photo of a person\"] #@param {type:\"raw\"}  # add text prompts to generate here (correlates to embedings text)\n",
        "\n",
        "\n",
        "# input/output path creation\n",
        "input_dirs=[]\n",
        "output_dirs=[]\n",
        "\n",
        "for text in text_prompts:\n",
        "  input_dirs.append(os.path.join(input_dir,text.replace(\" \",\"_\")))\n",
        "  output_dirs.append(os.path.join(output_dir,text.replace(\" \",\"_\")))"
      ],
      "metadata": {
        "cellView": "form",
        "id": "aApeFXgzsang"
      },
      "execution_count": 14,
      "outputs": []
    },
    {
      "cell_type": "markdown",
      "source": [
        "## **6. Load image test set**"
      ],
      "metadata": {
        "id": "2txTA5Jm0Tgs"
      }
    },
    {
      "cell_type": "markdown",
      "metadata": {
        "id": "NR1OqrWT-NFi"
      },
      "source": [
        "\n",
        "**Image Classes Configuartion and load**\n",
        "\n",
        "Input images (movie frames) are loaded from a directory in drive and saved as new name \"{class name (folder)}_{number of frame}:\n",
        "\n",
        "*   image_list = [(new_name,PIL image)...]\n"
      ]
    },
    {
      "cell_type": "code",
      "source": [
        "\n",
        "class_batch = 5 #@param {type:\"number\"}  #number of images from each class to process  if all set to float('inf')\n",
        "max_frames = float('inf') #@param {type:\"number\"} #maximum number of images to process if all set to float('inf')\n",
        "image_data_path = '/content/drive/MyDrive/thesis_OO_SD/Fabelmans_movie/frames_classes_GT' #@param {type:\"string\"} #folder to dataset image classes\n"
      ],
      "metadata": {
        "id": "6R0dLlkGAn3Z",
        "cellView": "form"
      },
      "execution_count": 15,
      "outputs": []
    },
    {
      "cell_type": "code",
      "execution_count": null,
      "metadata": {
        "collapsed": true,
        "id": "8UStDu64sTNs"
      },
      "outputs": [],
      "source": [
        "image_list =data_upload.upload_images(image_data_path,class_batch =class_batch,max_frames=max_frames)"
      ]
    },
    {
      "cell_type": "markdown",
      "source": [
        "## **7. Image Identificaton**"
      ],
      "metadata": {
        "id": "mdmjA33U3k-8"
      }
    },
    {
      "cell_type": "markdown",
      "source": [
        "### **Diffusion Model Identification for multiple images**"
      ],
      "metadata": {
        "id": "SJIoqSN5xS69"
      }
    },
    {
      "cell_type": "markdown",
      "source": [
        "**Diffusion Identifier model configurations**\n"
      ],
      "metadata": {
        "id": "MMJpz-CoBfhv"
      }
    },
    {
      "cell_type": "code",
      "source": [
        "num_inference_steps = 50  #@param {type:\"number\"}\n",
        "resolution = 512  #@param {type:\"number\"}\n",
        "height = 512  #@param {type:\"number\"}\n",
        "width = 512  #@param {type:\"number\"}\n",
        "alpha = 0 #@param {type:\"number\"}\n",
        "guidance_scale = 7.5 #@param {type:\"number\"}\n",
        "seed = 9 #@param {type:\"number\"}\n",
        "\n",
        "cat_embeds = False  #@param {type:\"boolean\"}\n",
        "Imagic_pipe = True  #@param {type:\"boolean\"}\n",
        "SD_model_name = 'CompVis/stable-diffusion-v1-4' #@param {type:\"string\"}\n",
        "CLIP_model_name = 'openai/clip-vit-large-patch14' #@param {type:\"string\"}\n",
        "device = \"cuda\" if torch.cuda.is_available() else \"cpu\"\n"
      ],
      "metadata": {
        "id": "iV1Qxcm4Bf2n"
      },
      "execution_count": 18,
      "outputs": []
    },
    {
      "cell_type": "markdown",
      "source": [
        "**Diffusion Identifier model inference**\n",
        "\n",
        "* Loss is saved to CSV per class in the output directory\n"
      ],
      "metadata": {
        "id": "4ffH_VC8CGO6"
      }
    },
    {
      "cell_type": "code",
      "execution_count": null,
      "metadata": {
        "id": "5jy6lh7UhAZ4"
      },
      "outputs": [],
      "source": [
        "for input_dir, output_dir in zip(input_dirs,output_dirs):\n",
        "  os.makedirs(output_dir,exist_ok=True)\n",
        "  sd_identifier = Diffusion_Identifier.multi_image_identifier(input_dir,output_dir, SD_model_name,CLIP_model_name,\n",
        "                                                            device,image_list,cat_embeds,Imagic_pipe,alpha,seed=seed,\n",
        "                                                            height=height,width=width, resolution=resolution,\n",
        "                                                            num_inference_steps=num_inference_steps,guidance_scale=guidance_scale\n",
        "                                                            )\n"
      ]
    },
    {
      "cell_type": "markdown",
      "metadata": {
        "id": "1pRH4L8aE-RE"
      },
      "source": [
        "### **CLIP Model Identification for multiple image**"
      ]
    },
    {
      "cell_type": "markdown",
      "source": [
        "**CLIP Identifier model configurations**\n"
      ],
      "metadata": {
        "id": "VLKKKA_1C8Fb"
      }
    },
    {
      "cell_type": "code",
      "source": [
        "device = \"cuda\" if torch.cuda.is_available() else \"cpu\"\n",
        "model_name = 'ViT-B/32'  #@param {type:\"string\"}\n"
      ],
      "metadata": {
        "id": "FUIbcNkpC8Fc"
      },
      "execution_count": null,
      "outputs": []
    },
    {
      "cell_type": "markdown",
      "source": [
        "**CLIP Identifier model inference**\n",
        "\n",
        "* Loss is saved to CSV per class in the output directory\n"
      ],
      "metadata": {
        "id": "O_vW2w7zDaOJ"
      }
    },
    {
      "cell_type": "code",
      "execution_count": null,
      "metadata": {
        "id": "E5zPFkjPE-RE"
      },
      "outputs": [],
      "source": [
        "for image_ID_path, csv_folder in zip(input_dirs,output_dirs):\n",
        "  os.makedirs(csv_folder, exist_ok=True)\n",
        "  clip_pipeline = clip_model.CLIPPipeline(device,model_name)\n",
        "  for image_name,image,_ in image_list:\n",
        "    cls = image_name.rsplit(\"_\",1)[0]\n",
        "    image_flag, df_clip,csv_file_path = helper_functions.csv_checkpoint(csv_folder,cls,image_name)\n",
        "    if image_flag:\n",
        "      continue\n",
        "    else:\n",
        "      clip_embeddings = clip_pipeline.images_to_embeddings(image_ID_path)\n",
        "      clip_classsifed = clip_pipeline.conditioned_classifier(image,clip_embeddings)\n",
        "\n",
        "      df_image = pd.DataFrame(clip_classsifed,columns = ['input_CLIP_embeds','CLIP_loss'])\n",
        "      df_image.insert(0, 'GT Image name', image_name)\n",
        "      df_clip = pd.concat([df_clip, df_image], ignore_index=False)\n",
        "\n",
        "      # Save to CSV\n",
        "      df_clip.to_csv(csv_file_path)\n"
      ]
    }
  ],
  "metadata": {
    "accelerator": "GPU",
    "colab": {
      "collapsed_sections": [
        "8WkXfNrhifdi",
        "EVnS7kScifdj",
        "M_dl_0Soifdj",
        "uiEmG7NVifdk",
        "PJqY5FW-ifdk",
        "SJIoqSN5xS69",
        "1pRH4L8aE-RE"
      ],
      "gpuType": "A100",
      "provenance": []
    },
    "kernelspec": {
      "display_name": "Python 3",
      "name": "python3"
    },
    "language_info": {
      "name": "python"
    },
    "widgets": {
      "application/vnd.jupyter.widget-state+json": {
        "49857a1f7a2b411a9ef9a44a6a73db55": {
          "model_module": "@jupyter-widgets/controls",
          "model_name": "VBoxModel",
          "model_module_version": "1.5.0",
          "state": {
            "_dom_classes": [],
            "_model_module": "@jupyter-widgets/controls",
            "_model_module_version": "1.5.0",
            "_model_name": "VBoxModel",
            "_view_count": null,
            "_view_module": "@jupyter-widgets/controls",
            "_view_module_version": "1.5.0",
            "_view_name": "VBoxView",
            "box_style": "",
            "children": [],
            "layout": "IPY_MODEL_71251a3342cd41acab2b42c4ccbc9dad"
          }
        },
        "e49b8f43b80a42949995e550a0255f9b": {
          "model_module": "@jupyter-widgets/controls",
          "model_name": "HTMLModel",
          "model_module_version": "1.5.0",
          "state": {
            "_dom_classes": [],
            "_model_module": "@jupyter-widgets/controls",
            "_model_module_version": "1.5.0",
            "_model_name": "HTMLModel",
            "_view_count": null,
            "_view_module": "@jupyter-widgets/controls",
            "_view_module_version": "1.5.0",
            "_view_name": "HTMLView",
            "description": "",
            "description_tooltip": null,
            "layout": "IPY_MODEL_9ded10e496134d44b369a96c91e1a351",
            "placeholder": "​",
            "style": "IPY_MODEL_6349bdf0e0f34388a0129bfa8ffcc273",
            "value": "<center> <img\nsrc=https://huggingface.co/front/assets/huggingface_logo-noborder.svg\nalt='Hugging Face'> <br> Copy a token from <a\nhref=\"https://huggingface.co/settings/tokens\" target=\"_blank\">your Hugging Face\ntokens page</a> and paste it below. <br> Immediately click login after copying\nyour token or it might be stored in plain text in this notebook file. </center>"
          }
        },
        "08d7ac4a88894891857994ae3ffc40b0": {
          "model_module": "@jupyter-widgets/controls",
          "model_name": "PasswordModel",
          "model_module_version": "1.5.0",
          "state": {
            "_dom_classes": [],
            "_model_module": "@jupyter-widgets/controls",
            "_model_module_version": "1.5.0",
            "_model_name": "PasswordModel",
            "_view_count": null,
            "_view_module": "@jupyter-widgets/controls",
            "_view_module_version": "1.5.0",
            "_view_name": "PasswordView",
            "continuous_update": true,
            "description": "Token:",
            "description_tooltip": null,
            "disabled": false,
            "layout": "IPY_MODEL_3ac0f01f58bd40f3bd65e362fa8a263c",
            "placeholder": "​",
            "style": "IPY_MODEL_cd9c70d65f1046f19e56768e7134c444",
            "value": ""
          }
        },
        "311f6014c653404cbd014c5858052959": {
          "model_module": "@jupyter-widgets/controls",
          "model_name": "CheckboxModel",
          "model_module_version": "1.5.0",
          "state": {
            "_dom_classes": [],
            "_model_module": "@jupyter-widgets/controls",
            "_model_module_version": "1.5.0",
            "_model_name": "CheckboxModel",
            "_view_count": null,
            "_view_module": "@jupyter-widgets/controls",
            "_view_module_version": "1.5.0",
            "_view_name": "CheckboxView",
            "description": "Add token as git credential?",
            "description_tooltip": null,
            "disabled": false,
            "indent": true,
            "layout": "IPY_MODEL_7f2e25ef3c8844caa71a6e1ed6b4b6bb",
            "style": "IPY_MODEL_8bf93500d9214f0990bcf8148b67b09a",
            "value": true
          }
        },
        "57677ede4398447a9196f6d0d9b770db": {
          "model_module": "@jupyter-widgets/controls",
          "model_name": "ButtonModel",
          "model_module_version": "1.5.0",
          "state": {
            "_dom_classes": [],
            "_model_module": "@jupyter-widgets/controls",
            "_model_module_version": "1.5.0",
            "_model_name": "ButtonModel",
            "_view_count": null,
            "_view_module": "@jupyter-widgets/controls",
            "_view_module_version": "1.5.0",
            "_view_name": "ButtonView",
            "button_style": "",
            "description": "Login",
            "disabled": false,
            "icon": "",
            "layout": "IPY_MODEL_f65c83f2143242edad15b0a22f2880c5",
            "style": "IPY_MODEL_9bef1738d26741a492ff7e84287e0503",
            "tooltip": ""
          }
        },
        "d54bd189418345cfb868475362e7d4de": {
          "model_module": "@jupyter-widgets/controls",
          "model_name": "HTMLModel",
          "model_module_version": "1.5.0",
          "state": {
            "_dom_classes": [],
            "_model_module": "@jupyter-widgets/controls",
            "_model_module_version": "1.5.0",
            "_model_name": "HTMLModel",
            "_view_count": null,
            "_view_module": "@jupyter-widgets/controls",
            "_view_module_version": "1.5.0",
            "_view_name": "HTMLView",
            "description": "",
            "description_tooltip": null,
            "layout": "IPY_MODEL_d8adef5ea7ed407b85616ebab1d162da",
            "placeholder": "​",
            "style": "IPY_MODEL_465ceecc8bb342d0982d45ba0508a6dc",
            "value": "\n<b>Pro Tip:</b> If you don't already have one, you can create a dedicated\n'notebooks' token with 'write' access, that you can then easily reuse for all\nnotebooks. </center>"
          }
        },
        "71251a3342cd41acab2b42c4ccbc9dad": {
          "model_module": "@jupyter-widgets/base",
          "model_name": "LayoutModel",
          "model_module_version": "1.2.0",
          "state": {
            "_model_module": "@jupyter-widgets/base",
            "_model_module_version": "1.2.0",
            "_model_name": "LayoutModel",
            "_view_count": null,
            "_view_module": "@jupyter-widgets/base",
            "_view_module_version": "1.2.0",
            "_view_name": "LayoutView",
            "align_content": null,
            "align_items": "center",
            "align_self": null,
            "border": null,
            "bottom": null,
            "display": "flex",
            "flex": null,
            "flex_flow": "column",
            "grid_area": null,
            "grid_auto_columns": null,
            "grid_auto_flow": null,
            "grid_auto_rows": null,
            "grid_column": null,
            "grid_gap": null,
            "grid_row": null,
            "grid_template_areas": null,
            "grid_template_columns": null,
            "grid_template_rows": null,
            "height": null,
            "justify_content": null,
            "justify_items": null,
            "left": null,
            "margin": null,
            "max_height": null,
            "max_width": null,
            "min_height": null,
            "min_width": null,
            "object_fit": null,
            "object_position": null,
            "order": null,
            "overflow": null,
            "overflow_x": null,
            "overflow_y": null,
            "padding": null,
            "right": null,
            "top": null,
            "visibility": null,
            "width": "50%"
          }
        },
        "9ded10e496134d44b369a96c91e1a351": {
          "model_module": "@jupyter-widgets/base",
          "model_name": "LayoutModel",
          "model_module_version": "1.2.0",
          "state": {
            "_model_module": "@jupyter-widgets/base",
            "_model_module_version": "1.2.0",
            "_model_name": "LayoutModel",
            "_view_count": null,
            "_view_module": "@jupyter-widgets/base",
            "_view_module_version": "1.2.0",
            "_view_name": "LayoutView",
            "align_content": null,
            "align_items": null,
            "align_self": null,
            "border": null,
            "bottom": null,
            "display": null,
            "flex": null,
            "flex_flow": null,
            "grid_area": null,
            "grid_auto_columns": null,
            "grid_auto_flow": null,
            "grid_auto_rows": null,
            "grid_column": null,
            "grid_gap": null,
            "grid_row": null,
            "grid_template_areas": null,
            "grid_template_columns": null,
            "grid_template_rows": null,
            "height": null,
            "justify_content": null,
            "justify_items": null,
            "left": null,
            "margin": null,
            "max_height": null,
            "max_width": null,
            "min_height": null,
            "min_width": null,
            "object_fit": null,
            "object_position": null,
            "order": null,
            "overflow": null,
            "overflow_x": null,
            "overflow_y": null,
            "padding": null,
            "right": null,
            "top": null,
            "visibility": null,
            "width": null
          }
        },
        "6349bdf0e0f34388a0129bfa8ffcc273": {
          "model_module": "@jupyter-widgets/controls",
          "model_name": "DescriptionStyleModel",
          "model_module_version": "1.5.0",
          "state": {
            "_model_module": "@jupyter-widgets/controls",
            "_model_module_version": "1.5.0",
            "_model_name": "DescriptionStyleModel",
            "_view_count": null,
            "_view_module": "@jupyter-widgets/base",
            "_view_module_version": "1.2.0",
            "_view_name": "StyleView",
            "description_width": ""
          }
        },
        "3ac0f01f58bd40f3bd65e362fa8a263c": {
          "model_module": "@jupyter-widgets/base",
          "model_name": "LayoutModel",
          "model_module_version": "1.2.0",
          "state": {
            "_model_module": "@jupyter-widgets/base",
            "_model_module_version": "1.2.0",
            "_model_name": "LayoutModel",
            "_view_count": null,
            "_view_module": "@jupyter-widgets/base",
            "_view_module_version": "1.2.0",
            "_view_name": "LayoutView",
            "align_content": null,
            "align_items": null,
            "align_self": null,
            "border": null,
            "bottom": null,
            "display": null,
            "flex": null,
            "flex_flow": null,
            "grid_area": null,
            "grid_auto_columns": null,
            "grid_auto_flow": null,
            "grid_auto_rows": null,
            "grid_column": null,
            "grid_gap": null,
            "grid_row": null,
            "grid_template_areas": null,
            "grid_template_columns": null,
            "grid_template_rows": null,
            "height": null,
            "justify_content": null,
            "justify_items": null,
            "left": null,
            "margin": null,
            "max_height": null,
            "max_width": null,
            "min_height": null,
            "min_width": null,
            "object_fit": null,
            "object_position": null,
            "order": null,
            "overflow": null,
            "overflow_x": null,
            "overflow_y": null,
            "padding": null,
            "right": null,
            "top": null,
            "visibility": null,
            "width": null
          }
        },
        "cd9c70d65f1046f19e56768e7134c444": {
          "model_module": "@jupyter-widgets/controls",
          "model_name": "DescriptionStyleModel",
          "model_module_version": "1.5.0",
          "state": {
            "_model_module": "@jupyter-widgets/controls",
            "_model_module_version": "1.5.0",
            "_model_name": "DescriptionStyleModel",
            "_view_count": null,
            "_view_module": "@jupyter-widgets/base",
            "_view_module_version": "1.2.0",
            "_view_name": "StyleView",
            "description_width": ""
          }
        },
        "7f2e25ef3c8844caa71a6e1ed6b4b6bb": {
          "model_module": "@jupyter-widgets/base",
          "model_name": "LayoutModel",
          "model_module_version": "1.2.0",
          "state": {
            "_model_module": "@jupyter-widgets/base",
            "_model_module_version": "1.2.0",
            "_model_name": "LayoutModel",
            "_view_count": null,
            "_view_module": "@jupyter-widgets/base",
            "_view_module_version": "1.2.0",
            "_view_name": "LayoutView",
            "align_content": null,
            "align_items": null,
            "align_self": null,
            "border": null,
            "bottom": null,
            "display": null,
            "flex": null,
            "flex_flow": null,
            "grid_area": null,
            "grid_auto_columns": null,
            "grid_auto_flow": null,
            "grid_auto_rows": null,
            "grid_column": null,
            "grid_gap": null,
            "grid_row": null,
            "grid_template_areas": null,
            "grid_template_columns": null,
            "grid_template_rows": null,
            "height": null,
            "justify_content": null,
            "justify_items": null,
            "left": null,
            "margin": null,
            "max_height": null,
            "max_width": null,
            "min_height": null,
            "min_width": null,
            "object_fit": null,
            "object_position": null,
            "order": null,
            "overflow": null,
            "overflow_x": null,
            "overflow_y": null,
            "padding": null,
            "right": null,
            "top": null,
            "visibility": null,
            "width": null
          }
        },
        "8bf93500d9214f0990bcf8148b67b09a": {
          "model_module": "@jupyter-widgets/controls",
          "model_name": "DescriptionStyleModel",
          "model_module_version": "1.5.0",
          "state": {
            "_model_module": "@jupyter-widgets/controls",
            "_model_module_version": "1.5.0",
            "_model_name": "DescriptionStyleModel",
            "_view_count": null,
            "_view_module": "@jupyter-widgets/base",
            "_view_module_version": "1.2.0",
            "_view_name": "StyleView",
            "description_width": ""
          }
        },
        "f65c83f2143242edad15b0a22f2880c5": {
          "model_module": "@jupyter-widgets/base",
          "model_name": "LayoutModel",
          "model_module_version": "1.2.0",
          "state": {
            "_model_module": "@jupyter-widgets/base",
            "_model_module_version": "1.2.0",
            "_model_name": "LayoutModel",
            "_view_count": null,
            "_view_module": "@jupyter-widgets/base",
            "_view_module_version": "1.2.0",
            "_view_name": "LayoutView",
            "align_content": null,
            "align_items": null,
            "align_self": null,
            "border": null,
            "bottom": null,
            "display": null,
            "flex": null,
            "flex_flow": null,
            "grid_area": null,
            "grid_auto_columns": null,
            "grid_auto_flow": null,
            "grid_auto_rows": null,
            "grid_column": null,
            "grid_gap": null,
            "grid_row": null,
            "grid_template_areas": null,
            "grid_template_columns": null,
            "grid_template_rows": null,
            "height": null,
            "justify_content": null,
            "justify_items": null,
            "left": null,
            "margin": null,
            "max_height": null,
            "max_width": null,
            "min_height": null,
            "min_width": null,
            "object_fit": null,
            "object_position": null,
            "order": null,
            "overflow": null,
            "overflow_x": null,
            "overflow_y": null,
            "padding": null,
            "right": null,
            "top": null,
            "visibility": null,
            "width": null
          }
        },
        "9bef1738d26741a492ff7e84287e0503": {
          "model_module": "@jupyter-widgets/controls",
          "model_name": "ButtonStyleModel",
          "model_module_version": "1.5.0",
          "state": {
            "_model_module": "@jupyter-widgets/controls",
            "_model_module_version": "1.5.0",
            "_model_name": "ButtonStyleModel",
            "_view_count": null,
            "_view_module": "@jupyter-widgets/base",
            "_view_module_version": "1.2.0",
            "_view_name": "StyleView",
            "button_color": null,
            "font_weight": ""
          }
        },
        "d8adef5ea7ed407b85616ebab1d162da": {
          "model_module": "@jupyter-widgets/base",
          "model_name": "LayoutModel",
          "model_module_version": "1.2.0",
          "state": {
            "_model_module": "@jupyter-widgets/base",
            "_model_module_version": "1.2.0",
            "_model_name": "LayoutModel",
            "_view_count": null,
            "_view_module": "@jupyter-widgets/base",
            "_view_module_version": "1.2.0",
            "_view_name": "LayoutView",
            "align_content": null,
            "align_items": null,
            "align_self": null,
            "border": null,
            "bottom": null,
            "display": null,
            "flex": null,
            "flex_flow": null,
            "grid_area": null,
            "grid_auto_columns": null,
            "grid_auto_flow": null,
            "grid_auto_rows": null,
            "grid_column": null,
            "grid_gap": null,
            "grid_row": null,
            "grid_template_areas": null,
            "grid_template_columns": null,
            "grid_template_rows": null,
            "height": null,
            "justify_content": null,
            "justify_items": null,
            "left": null,
            "margin": null,
            "max_height": null,
            "max_width": null,
            "min_height": null,
            "min_width": null,
            "object_fit": null,
            "object_position": null,
            "order": null,
            "overflow": null,
            "overflow_x": null,
            "overflow_y": null,
            "padding": null,
            "right": null,
            "top": null,
            "visibility": null,
            "width": null
          }
        },
        "465ceecc8bb342d0982d45ba0508a6dc": {
          "model_module": "@jupyter-widgets/controls",
          "model_name": "DescriptionStyleModel",
          "model_module_version": "1.5.0",
          "state": {
            "_model_module": "@jupyter-widgets/controls",
            "_model_module_version": "1.5.0",
            "_model_name": "DescriptionStyleModel",
            "_view_count": null,
            "_view_module": "@jupyter-widgets/base",
            "_view_module_version": "1.2.0",
            "_view_name": "StyleView",
            "description_width": ""
          }
        },
        "443285edbe254c94bbd9acfbd868491d": {
          "model_module": "@jupyter-widgets/controls",
          "model_name": "LabelModel",
          "model_module_version": "1.5.0",
          "state": {
            "_dom_classes": [],
            "_model_module": "@jupyter-widgets/controls",
            "_model_module_version": "1.5.0",
            "_model_name": "LabelModel",
            "_view_count": null,
            "_view_module": "@jupyter-widgets/controls",
            "_view_module_version": "1.5.0",
            "_view_name": "LabelView",
            "description": "",
            "description_tooltip": null,
            "layout": "IPY_MODEL_c38df4bbdb5048cb92724f5990abbbba",
            "placeholder": "​",
            "style": "IPY_MODEL_2fc166184be045bb98f435ecd1f745d2",
            "value": "Connecting..."
          }
        },
        "c38df4bbdb5048cb92724f5990abbbba": {
          "model_module": "@jupyter-widgets/base",
          "model_name": "LayoutModel",
          "model_module_version": "1.2.0",
          "state": {
            "_model_module": "@jupyter-widgets/base",
            "_model_module_version": "1.2.0",
            "_model_name": "LayoutModel",
            "_view_count": null,
            "_view_module": "@jupyter-widgets/base",
            "_view_module_version": "1.2.0",
            "_view_name": "LayoutView",
            "align_content": null,
            "align_items": null,
            "align_self": null,
            "border": null,
            "bottom": null,
            "display": null,
            "flex": null,
            "flex_flow": null,
            "grid_area": null,
            "grid_auto_columns": null,
            "grid_auto_flow": null,
            "grid_auto_rows": null,
            "grid_column": null,
            "grid_gap": null,
            "grid_row": null,
            "grid_template_areas": null,
            "grid_template_columns": null,
            "grid_template_rows": null,
            "height": null,
            "justify_content": null,
            "justify_items": null,
            "left": null,
            "margin": null,
            "max_height": null,
            "max_width": null,
            "min_height": null,
            "min_width": null,
            "object_fit": null,
            "object_position": null,
            "order": null,
            "overflow": null,
            "overflow_x": null,
            "overflow_y": null,
            "padding": null,
            "right": null,
            "top": null,
            "visibility": null,
            "width": null
          }
        },
        "2fc166184be045bb98f435ecd1f745d2": {
          "model_module": "@jupyter-widgets/controls",
          "model_name": "DescriptionStyleModel",
          "model_module_version": "1.5.0",
          "state": {
            "_model_module": "@jupyter-widgets/controls",
            "_model_module_version": "1.5.0",
            "_model_name": "DescriptionStyleModel",
            "_view_count": null,
            "_view_module": "@jupyter-widgets/base",
            "_view_module_version": "1.2.0",
            "_view_name": "StyleView",
            "description_width": ""
          }
        }
      }
    }
  },
  "nbformat": 4,
  "nbformat_minor": 0
}