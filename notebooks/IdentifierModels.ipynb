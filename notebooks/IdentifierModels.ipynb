{
  "cells": [
    {
      "cell_type": "markdown",
      "metadata": {
        "id": "TdcknIXz5Xa4"
      },
      "source": [
        "# **Image Identifier Models**\n",
        "\n",
        "This notebook is designed to evaluate and identify characters in movie frames using Generative and discrimiantive models. The notebook is structured to align with the objectives outlined in the thesis.\n",
        "\n"
      ]
    },
    {
      "cell_type": "markdown",
      "metadata": {
        "id": "8WkXfNrhifdi"
      },
      "source": [
        "## **1. Environment Setup**\n",
        "Install necessary libraries and clone the required repository."
      ]
    },
    {
      "cell_type": "code",
      "execution_count": null,
      "metadata": {
        "id": "Q3GrQYwSifdj"
      },
      "outputs": [],
      "source": [
        "!git clone https://github.com/Reouth/Movie-Character-Identification-With-Perosnalized-Generative-Models.git\n",
        "\n",
        "%pip install -qq git+https://github.com/huggingface/diffusers.git\n",
        "%pip install -q accelerate\n",
        "!pip install bitsandbytes\n",
        "!pip install git+https://github.com/openai/CLIP.git\n"
      ]
    },
    {
      "cell_type": "markdown",
      "metadata": {
        "id": "EVnS7kScifdj"
      },
      "source": [
        "## **2. Import Libraries**\n",
        "Load necessary Python libraries and scripts."
      ]
    },
    {
      "cell_type": "code",
      "execution_count": null,
      "metadata": {
        "colab": {
          "base_uri": "https://localhost:8080/",
          "referenced_widgets": [
            "9060c7182ef542dd8ea77a4d0a03ea9a",
            "c4d7765d564343e69353321f84793d2c",
            "efa8df134cbe4134bef94aeed11028ae",
            "07e1b5d8f2fe42d387284d013d168c28",
            "f6f61c4d940e4585b345aabbb2ef4d73",
            "f5fa72d2c2d44924b34d825134a077ba",
            "ff6e32e8394b4abc9433d24245dfa7a5",
            "4f307b37d30a4eac933d79a950338cca",
            "d74910aecc2947798fc836d323bfd056",
            "524ce1d95aa144c1a002a96e3be631ad",
            "fa2c6580d66149b6be3cdb3ec1713fdc"
          ]
        },
        "id": "-LzY3tQwifdj",
        "outputId": "65ca21ba-3bc5-44af-a959-508f71b06cbc"
      },
      "outputs": [
        {
          "name": "stderr",
          "output_type": "stream",
          "text": [
            "The cache for model files in Transformers v4.22.0 has been updated. Migrating your old cache. This is a one-time only operation. You can interrupt this and resume the migration later on by calling `transformers.utils.move_cache()`.\n"
          ]
        },
        {
          "data": {
            "application/vnd.jupyter.widget-view+json": {
              "model_id": "9060c7182ef542dd8ea77a4d0a03ea9a",
              "version_major": 2,
              "version_minor": 0
            },
            "text/plain": [
              "0it [00:00, ?it/s]"
            ]
          },
          "metadata": {},
          "output_type": "display_data"
        }
      ],
      "source": [
        "import os\n",
        "import torch\n",
        "import gc\n",
        "import configparser\n",
        "from torch import autocast`\n",
        "import numpy as np\n",
        "import pandas as pd\n",
        "\n",
        "# Change directory to cloned repository\n",
        "os.chdir('/content/Movie-Character-Identification-With-Perosnalized-Generative-Models')\n",
        "\n",
        "from models.CLIP import CLIPIdentifier\n",
        "from models.Diffusion import DiffusionIdentifier\n",
        "from handlers import ImageHandler\n"
      ]
    },
    {
      "cell_type": "markdown",
      "metadata": {
        "id": "M_dl_0Soifdj"
      },
      "source": [
        "## **3. HuggingFace Authentication**\n",
        "Login to HuggingFace to access the Stable Diffusion model."
      ]
    },
    {
      "cell_type": "code",
      "execution_count": null,
      "metadata": {
        "colab": {
          "base_uri": "https://localhost:8080/",
          "height": 17,
          "referenced_widgets": [
            "74e5ad3599af45d9b863642735b0f027",
            "2a41401bf1fc438b905eef97747e03ad"
          ]
        },
        "id": "5m9Csge2ifdk",
        "outputId": "c6d7302b-f1ee-491a-f64d-74b31816b6ef"
      },
      "outputs": [
        {
          "data": {
            "application/vnd.jupyter.widget-view+json": {
              "model_id": "74e5ad3599af45d9b863642735b0f027",
              "version_major": 2,
              "version_minor": 0
            },
            "text/plain": [
              "VBox(children=(HTML(value='<center> <img\\nsrc=https://huggingface.co/front/assets/huggingface_logo-noborder.sv…"
            ]
          },
          "metadata": {},
          "output_type": "display_data"
        }
      ],
      "source": [
        "from huggingface_hub import notebook_login\n",
        "!git config --global credential.helper store\n",
        "notebook_login()"
      ]
    },
    {
      "cell_type": "markdown",
      "metadata": {
        "id": "uiEmG7NVifdk"
      },
      "source": [
        "## **4. Mount Google Drive**\n",
        "Store and retrieve files from Google Drive."
      ]
    },
    {
      "cell_type": "code",
      "execution_count": null,
      "metadata": {
        "colab": {
          "base_uri": "https://localhost:8080/"
        },
        "id": "OKWHYOS_ifdk",
        "outputId": "fa03caee-516b-49bd-fbcb-61a44541e4fc"
      },
      "outputs": [
        {
          "name": "stdout",
          "output_type": "stream",
          "text": [
            "Mounted at /content/drive\n"
          ]
        }
      ],
      "source": [
        "from google.colab import drive\n",
        "drive.mount('/content/drive')"
      ]
    },
    {
      "cell_type": "markdown",
      "metadata": {
        "id": "PJqY5FW-ifdk"
      },
      "source": [
        "\n",
        "## **5. General Configuration**\n"
      ]
    },
    {
      "cell_type": "markdown",
      "metadata": {
        "id": "pglU8TzJBRoc"
      },
      "source": [
        "\n",
        "**Input/output Path configurations and load**\n",
        "\n",
        "Note:\n",
        "* Input path for Diffusion model is ID image-text embedding folder\n",
        "* Input path for CLIP model is folder for ID images"
      ]
    },
    {
      "cell_type": "code",
      "execution_count": null,
      "metadata": {
        "id": "aApeFXgzsang"
      },
      "outputs": [],
      "source": [
        "\n",
        "output_dir = '/content/drive/MyDrive/thesis_OO_SD/testing/Fabelmans_movie/csv_results/SD_check'#@param {type:\"string\"} #output main folder\n",
        "os.makedirs(output_dir,exist_ok=True)\n",
        "input_dir =  '/content/drive/MyDrive/thesis_OO_SD/Fabelmans_movie/Imagic_embeddings/4_ID/1024res/embeds_with_pipe' #'/content/drive/MyDrive/thesis_OO_SD/Fabelmans_movie/ID_images' #@param {type:\"string\"} #input main folder\n",
        "\n",
        "text_prompts  =  [\"a photo of a person\"] #@param {type:\"raw\"}  # add text prompts to generate here (correlates to embedings text)\n",
        "\n",
        "\n",
        "# input/output path creation\n",
        "input_dirs=[]\n",
        "output_dirs=[]\n",
        "\n",
        "for text in text_prompts:\n",
        "  input_dirs.append(os.path.join(input_dir,text.replace(\" \",\"_\")))\n",
        "  output_dirs.append(os.path.join(output_dir,text.replace(\" \",\"_\")))"
      ]
    },
    {
      "cell_type": "markdown",
      "metadata": {
        "id": "2txTA5Jm0Tgs"
      },
      "source": [
        "## **6. Load image test set**"
      ]
    },
    {
      "cell_type": "markdown",
      "metadata": {
        "id": "NR1OqrWT-NFi"
      },
      "source": [
        "\n",
        "**Image Classes Configuartion and load**\n",
        "\n",
        "Input images (movie frames) are loaded from a directory in drive and saved as new name \"{class name (folder)}_{number of frame}:\n",
        "\n",
        "*   image_list = [(new_name,PIL image)...]\n"
      ]
    },
    {
      "cell_type": "code",
      "execution_count": null,
      "metadata": {
        "id": "6R0dLlkGAn3Z"
      },
      "outputs": [],
      "source": [
        "\n",
        "class_batch = 5 #@param {type:\"number\"}  #number of images from each class to process  if all set to float('inf')\n",
        "max_frames = float('inf') #@param {type:\"number\"} #maximum number of images to process if all set to float('inf')\n",
        "image_data_path = '/content/drive/MyDrive/thesis_OO_SD/Fabelmans_movie/frames_classes_GT' #@param {type:\"string\"} #folder to dataset image classes\n"
      ]
    },
    {
      "cell_type": "code",
      "execution_count": null,
      "metadata": {
        "id": "8UStDu64sTNs"
      },
      "outputs": [],
      "source": [
        "image_list =ImageHandler.upload_images(image_data_path,class_batch =class_batch,max_frames=max_frames)"
      ]
    },
    {
      "cell_type": "markdown",
      "metadata": {
        "id": "mdmjA33U3k-8"
      },
      "source": [
        "## **7. Image Identificaton**"
      ]
    },
    {
      "cell_type": "markdown",
      "metadata": {
        "id": "SJIoqSN5xS69"
      },
      "source": [
        "### **Diffusion Model Identification for multiple images**"
      ]
    },
    {
      "cell_type": "markdown",
      "metadata": {
        "id": "MMJpz-CoBfhv"
      },
      "source": [
        "**Diffusion Identifier model configurations**\n"
      ]
    },
    {
      "cell_type": "code",
      "execution_count": null,
      "metadata": {
        "id": "iV1Qxcm4Bf2n"
      },
      "outputs": [],
      "source": [
        "num_inference_steps = 50  #@param {type:\"number\"}\n",
        "resolution = 512  #@param {type:\"number\"}\n",
        "height = 512  #@param {type:\"number\"}\n",
        "width = 512  #@param {type:\"number\"}\n",
        "alpha = 0 #@param {type:\"number\"}\n",
        "seed = 9 #@param {type:\"number\"}\n",
        "\n",
        "cat_embeds = False  #@param {type:\"boolean\"}\n",
        "Imagic_pipe = True  #@param {type:\"boolean\"}\n",
        "SD_model_name = 'CompVis/stable-diffusion-v1-4' #@param {type:\"string\"}\n",
        "CLIP_model_name = 'openai/clip-vit-large-patch14' #@param {type:\"string\"}\n",
        "device = \"cuda\" if torch.cuda.is_available() else \"cpu\"\n"
      ]
    },
    {
      "cell_type": "markdown",
      "metadata": {
        "id": "4ffH_VC8CGO6"
      },
      "source": [
        "**Diffusion Identifier model inference**\n",
        "\n",
        "* Loss is saved to CSV per class in the output directory\n"
      ]
    },
    {
      "cell_type": "code",
      "execution_count": null,
      "metadata": {
        "colab": {
          "background_save": true
        },
        "id": "5jy6lh7UhAZ4"
      },
      "outputs": [],
      "source": [
        "for input_dir, output_dir in zip(input_dirs,output_dirs):\n",
        "  os.makedirs(output_dir,exist_ok=True)\n",
        "  sd_identifier = DiffusionIdentifier.multi_image_identifier(input_dir,output_dir, SD_model_name,CLIP_model_name,\n",
        "                                                            device,image_list,cat_embeds,Imagic_pipe,alpha,seed=seed,\n",
        "                                                            height=height,width=width, resolution=resolution,\n",
        "                                                            num_inference_steps=num_inference_steps\n",
        "                                                            )\n"
      ]
    },
    {
      "cell_type": "markdown",
      "metadata": {
        "id": "1pRH4L8aE-RE"
      },
      "source": [
        "### **CLIP Model Identification for multiple image**"
      ]
    },
    {
      "cell_type": "markdown",
      "metadata": {
        "id": "VLKKKA_1C8Fb"
      },
      "source": [
        "**CLIP Identifier model configurations**\n"
      ]
    },
    {
      "cell_type": "code",
      "execution_count": null,
      "metadata": {
        "id": "FUIbcNkpC8Fc"
      },
      "outputs": [],
      "source": [
        "device = \"cuda\" if torch.cuda.is_available() else \"cpu\"\n",
        "model_name = 'ViT-B/32'  #@param {type:\"string\"}\n"
      ]
    },
    {
      "cell_type": "markdown",
      "metadata": {
        "id": "O_vW2w7zDaOJ"
      },
      "source": [
        "**CLIP Identifier model inference**\n",
        "\n",
        "* Loss is saved to CSV per class in the output directory\n"
      ]
    },
    {
      "cell_type": "code",
      "execution_count": null,
      "metadata": {
        "id": "E5zPFkjPE-RE"
      },
      "outputs": [],
      "source": [
        "for input_dir, output_dir in zip(input_dirs,output_dirs):\n",
        "  os.makedirs(output_dir, exist_ok=True)\n",
        "\n",
        "  clip_identifier = ClipIdentifier.multi_image_identifier(input_dir,output_dir,image_list,model_name,device)\n"
      ]
    }
  ],
  "metadata": {
    "accelerator": "GPU",
    "colab": {
      "collapsed_sections": [
        "8WkXfNrhifdi",
        "EVnS7kScifdj",
        "M_dl_0Soifdj",
        "uiEmG7NVifdk",
        "PJqY5FW-ifdk",
        "SJIoqSN5xS69",
        "1pRH4L8aE-RE"
      ],
      "gpuType": "A100",
      "provenance": []
    },
    "kernelspec": {
      "display_name": "Python 3",
      "name": "python3"
    },
    "language_info": {
      "name": "python"
    },
    "widgets": {
      "application/vnd.jupyter.widget-state+json": {
        "07e1b5d8f2fe42d387284d013d168c28": {
          "model_module": "@jupyter-widgets/controls",
          "model_module_version": "1.5.0",
          "model_name": "HTMLModel",
          "state": {
            "_dom_classes": [],
            "_model_module": "@jupyter-widgets/controls",
            "_model_module_version": "1.5.0",
            "_model_name": "HTMLModel",
            "_view_count": null,
            "_view_module": "@jupyter-widgets/controls",
            "_view_module_version": "1.5.0",
            "_view_name": "HTMLView",
            "description": "",
            "description_tooltip": null,
            "layout": "IPY_MODEL_524ce1d95aa144c1a002a96e3be631ad",
            "placeholder": "​",
            "style": "IPY_MODEL_fa2c6580d66149b6be3cdb3ec1713fdc",
            "value": " 0/0 [00:00&lt;?, ?it/s]"
          }
        },
        "2a41401bf1fc438b905eef97747e03ad": {
          "model_module": "@jupyter-widgets/base",
          "model_module_version": "1.2.0",
          "model_name": "LayoutModel",
          "state": {
            "_model_module": "@jupyter-widgets/base",
            "_model_module_version": "1.2.0",
            "_model_name": "LayoutModel",
            "_view_count": null,
            "_view_module": "@jupyter-widgets/base",
            "_view_module_version": "1.2.0",
            "_view_name": "LayoutView",
            "align_content": null,
            "align_items": "center",
            "align_self": null,
            "border": null,
            "bottom": null,
            "display": "flex",
            "flex": null,
            "flex_flow": "column",
            "grid_area": null,
            "grid_auto_columns": null,
            "grid_auto_flow": null,
            "grid_auto_rows": null,
            "grid_column": null,
            "grid_gap": null,
            "grid_row": null,
            "grid_template_areas": null,
            "grid_template_columns": null,
            "grid_template_rows": null,
            "height": null,
            "justify_content": null,
            "justify_items": null,
            "left": null,
            "margin": null,
            "max_height": null,
            "max_width": null,
            "min_height": null,
            "min_width": null,
            "object_fit": null,
            "object_position": null,
            "order": null,
            "overflow": null,
            "overflow_x": null,
            "overflow_y": null,
            "padding": null,
            "right": null,
            "top": null,
            "visibility": null,
            "width": "50%"
          }
        },
        "4f307b37d30a4eac933d79a950338cca": {
          "model_module": "@jupyter-widgets/base",
          "model_module_version": "1.2.0",
          "model_name": "LayoutModel",
          "state": {
            "_model_module": "@jupyter-widgets/base",
            "_model_module_version": "1.2.0",
            "_model_name": "LayoutModel",
            "_view_count": null,
            "_view_module": "@jupyter-widgets/base",
            "_view_module_version": "1.2.0",
            "_view_name": "LayoutView",
            "align_content": null,
            "align_items": null,
            "align_self": null,
            "border": null,
            "bottom": null,
            "display": null,
            "flex": null,
            "flex_flow": null,
            "grid_area": null,
            "grid_auto_columns": null,
            "grid_auto_flow": null,
            "grid_auto_rows": null,
            "grid_column": null,
            "grid_gap": null,
            "grid_row": null,
            "grid_template_areas": null,
            "grid_template_columns": null,
            "grid_template_rows": null,
            "height": null,
            "justify_content": null,
            "justify_items": null,
            "left": null,
            "margin": null,
            "max_height": null,
            "max_width": null,
            "min_height": null,
            "min_width": null,
            "object_fit": null,
            "object_position": null,
            "order": null,
            "overflow": null,
            "overflow_x": null,
            "overflow_y": null,
            "padding": null,
            "right": null,
            "top": null,
            "visibility": null,
            "width": "20px"
          }
        },
        "524ce1d95aa144c1a002a96e3be631ad": {
          "model_module": "@jupyter-widgets/base",
          "model_module_version": "1.2.0",
          "model_name": "LayoutModel",
          "state": {
            "_model_module": "@jupyter-widgets/base",
            "_model_module_version": "1.2.0",
            "_model_name": "LayoutModel",
            "_view_count": null,
            "_view_module": "@jupyter-widgets/base",
            "_view_module_version": "1.2.0",
            "_view_name": "LayoutView",
            "align_content": null,
            "align_items": null,
            "align_self": null,
            "border": null,
            "bottom": null,
            "display": null,
            "flex": null,
            "flex_flow": null,
            "grid_area": null,
            "grid_auto_columns": null,
            "grid_auto_flow": null,
            "grid_auto_rows": null,
            "grid_column": null,
            "grid_gap": null,
            "grid_row": null,
            "grid_template_areas": null,
            "grid_template_columns": null,
            "grid_template_rows": null,
            "height": null,
            "justify_content": null,
            "justify_items": null,
            "left": null,
            "margin": null,
            "max_height": null,
            "max_width": null,
            "min_height": null,
            "min_width": null,
            "object_fit": null,
            "object_position": null,
            "order": null,
            "overflow": null,
            "overflow_x": null,
            "overflow_y": null,
            "padding": null,
            "right": null,
            "top": null,
            "visibility": null,
            "width": null
          }
        },
        "74e5ad3599af45d9b863642735b0f027": {
          "model_module": "@jupyter-widgets/controls",
          "model_module_version": "1.5.0",
          "model_name": "VBoxModel",
          "state": {
            "_dom_classes": [],
            "_model_module": "@jupyter-widgets/controls",
            "_model_module_version": "1.5.0",
            "_model_name": "VBoxModel",
            "_view_count": null,
            "_view_module": "@jupyter-widgets/controls",
            "_view_module_version": "1.5.0",
            "_view_name": "VBoxView",
            "box_style": "",
            "children": [],
            "layout": "IPY_MODEL_2a41401bf1fc438b905eef97747e03ad"
          }
        },
        "9060c7182ef542dd8ea77a4d0a03ea9a": {
          "model_module": "@jupyter-widgets/controls",
          "model_module_version": "1.5.0",
          "model_name": "HBoxModel",
          "state": {
            "_dom_classes": [],
            "_model_module": "@jupyter-widgets/controls",
            "_model_module_version": "1.5.0",
            "_model_name": "HBoxModel",
            "_view_count": null,
            "_view_module": "@jupyter-widgets/controls",
            "_view_module_version": "1.5.0",
            "_view_name": "HBoxView",
            "box_style": "",
            "children": [
              "IPY_MODEL_c4d7765d564343e69353321f84793d2c",
              "IPY_MODEL_efa8df134cbe4134bef94aeed11028ae",
              "IPY_MODEL_07e1b5d8f2fe42d387284d013d168c28"
            ],
            "layout": "IPY_MODEL_f6f61c4d940e4585b345aabbb2ef4d73"
          }
        },
        "c4d7765d564343e69353321f84793d2c": {
          "model_module": "@jupyter-widgets/controls",
          "model_module_version": "1.5.0",
          "model_name": "HTMLModel",
          "state": {
            "_dom_classes": [],
            "_model_module": "@jupyter-widgets/controls",
            "_model_module_version": "1.5.0",
            "_model_name": "HTMLModel",
            "_view_count": null,
            "_view_module": "@jupyter-widgets/controls",
            "_view_module_version": "1.5.0",
            "_view_name": "HTMLView",
            "description": "",
            "description_tooltip": null,
            "layout": "IPY_MODEL_f5fa72d2c2d44924b34d825134a077ba",
            "placeholder": "​",
            "style": "IPY_MODEL_ff6e32e8394b4abc9433d24245dfa7a5",
            "value": ""
          }
        },
        "d74910aecc2947798fc836d323bfd056": {
          "model_module": "@jupyter-widgets/controls",
          "model_module_version": "1.5.0",
          "model_name": "ProgressStyleModel",
          "state": {
            "_model_module": "@jupyter-widgets/controls",
            "_model_module_version": "1.5.0",
            "_model_name": "ProgressStyleModel",
            "_view_count": null,
            "_view_module": "@jupyter-widgets/base",
            "_view_module_version": "1.2.0",
            "_view_name": "StyleView",
            "bar_color": null,
            "description_width": ""
          }
        },
        "efa8df134cbe4134bef94aeed11028ae": {
          "model_module": "@jupyter-widgets/controls",
          "model_module_version": "1.5.0",
          "model_name": "FloatProgressModel",
          "state": {
            "_dom_classes": [],
            "_model_module": "@jupyter-widgets/controls",
            "_model_module_version": "1.5.0",
            "_model_name": "FloatProgressModel",
            "_view_count": null,
            "_view_module": "@jupyter-widgets/controls",
            "_view_module_version": "1.5.0",
            "_view_name": "ProgressView",
            "bar_style": "success",
            "description": "",
            "description_tooltip": null,
            "layout": "IPY_MODEL_4f307b37d30a4eac933d79a950338cca",
            "max": 1,
            "min": 0,
            "orientation": "horizontal",
            "style": "IPY_MODEL_d74910aecc2947798fc836d323bfd056",
            "value": 0
          }
        },
        "f5fa72d2c2d44924b34d825134a077ba": {
          "model_module": "@jupyter-widgets/base",
          "model_module_version": "1.2.0",
          "model_name": "LayoutModel",
          "state": {
            "_model_module": "@jupyter-widgets/base",
            "_model_module_version": "1.2.0",
            "_model_name": "LayoutModel",
            "_view_count": null,
            "_view_module": "@jupyter-widgets/base",
            "_view_module_version": "1.2.0",
            "_view_name": "LayoutView",
            "align_content": null,
            "align_items": null,
            "align_self": null,
            "border": null,
            "bottom": null,
            "display": null,
            "flex": null,
            "flex_flow": null,
            "grid_area": null,
            "grid_auto_columns": null,
            "grid_auto_flow": null,
            "grid_auto_rows": null,
            "grid_column": null,
            "grid_gap": null,
            "grid_row": null,
            "grid_template_areas": null,
            "grid_template_columns": null,
            "grid_template_rows": null,
            "height": null,
            "justify_content": null,
            "justify_items": null,
            "left": null,
            "margin": null,
            "max_height": null,
            "max_width": null,
            "min_height": null,
            "min_width": null,
            "object_fit": null,
            "object_position": null,
            "order": null,
            "overflow": null,
            "overflow_x": null,
            "overflow_y": null,
            "padding": null,
            "right": null,
            "top": null,
            "visibility": null,
            "width": null
          }
        },
        "f6f61c4d940e4585b345aabbb2ef4d73": {
          "model_module": "@jupyter-widgets/base",
          "model_module_version": "1.2.0",
          "model_name": "LayoutModel",
          "state": {
            "_model_module": "@jupyter-widgets/base",
            "_model_module_version": "1.2.0",
            "_model_name": "LayoutModel",
            "_view_count": null,
            "_view_module": "@jupyter-widgets/base",
            "_view_module_version": "1.2.0",
            "_view_name": "LayoutView",
            "align_content": null,
            "align_items": null,
            "align_self": null,
            "border": null,
            "bottom": null,
            "display": null,
            "flex": null,
            "flex_flow": null,
            "grid_area": null,
            "grid_auto_columns": null,
            "grid_auto_flow": null,
            "grid_auto_rows": null,
            "grid_column": null,
            "grid_gap": null,
            "grid_row": null,
            "grid_template_areas": null,
            "grid_template_columns": null,
            "grid_template_rows": null,
            "height": null,
            "justify_content": null,
            "justify_items": null,
            "left": null,
            "margin": null,
            "max_height": null,
            "max_width": null,
            "min_height": null,
            "min_width": null,
            "object_fit": null,
            "object_position": null,
            "order": null,
            "overflow": null,
            "overflow_x": null,
            "overflow_y": null,
            "padding": null,
            "right": null,
            "top": null,
            "visibility": null,
            "width": null
          }
        },
        "fa2c6580d66149b6be3cdb3ec1713fdc": {
          "model_module": "@jupyter-widgets/controls",
          "model_module_version": "1.5.0",
          "model_name": "DescriptionStyleModel",
          "state": {
            "_model_module": "@jupyter-widgets/controls",
            "_model_module_version": "1.5.0",
            "_model_name": "DescriptionStyleModel",
            "_view_count": null,
            "_view_module": "@jupyter-widgets/base",
            "_view_module_version": "1.2.0",
            "_view_name": "StyleView",
            "description_width": ""
          }
        },
        "ff6e32e8394b4abc9433d24245dfa7a5": {
          "model_module": "@jupyter-widgets/controls",
          "model_module_version": "1.5.0",
          "model_name": "DescriptionStyleModel",
          "state": {
            "_model_module": "@jupyter-widgets/controls",
            "_model_module_version": "1.5.0",
            "_model_name": "DescriptionStyleModel",
            "_view_count": null,
            "_view_module": "@jupyter-widgets/base",
            "_view_module_version": "1.2.0",
            "_view_name": "StyleView",
            "description_width": ""
          }
        }
      }
    }
  },
  "nbformat": 4,
  "nbformat_minor": 0
}