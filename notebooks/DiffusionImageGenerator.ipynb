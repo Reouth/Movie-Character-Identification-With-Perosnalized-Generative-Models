{
 "cells": [
  {
   "cell_type": "markdown",
   "source": [
    "# **Image generation Using Stable diffusion framework**\n",
    "\n",
    "This notebook generates images given image-text embeddings. It supports single image and batch image creation. The notebook is structured to align with the objectives outlined in the thesis."
   ],
   "metadata": {
    "id": "0fe51gXk8oIB"
   }
  },
  {
   "cell_type": "markdown",
   "metadata": {
    "id": "8WkXfNrhifdi"
   },
   "source": [
    "## **1. Environment Setup**\n",
    "Install necessary libraries and clone the required repository."
   ]
  },
  {
   "cell_type": "code",
   "execution_count": null,
   "metadata": {
    "id": "Q3GrQYwSifdj"
   },
   "outputs": [],
   "source": [
    "!git clone https://github.com/Reouth/Movie-Character-Identification-With-Perosnalized-Generative-Models.git\n",
    "\n",
    "%pip install -qq git+https://github.com/huggingface/diffusers.git\n",
    "%pip install -q accelerate\n",
    "!pip install bitsandbytes"
   ]
  },
  {
   "cell_type": "markdown",
   "metadata": {
    "id": "EVnS7kScifdj"
   },
   "source": [
    "## **2. Import Libraries**\n",
    "Load necessary Python libraries and scripts."
   ]
  },
  {
   "cell_type": "code",
   "execution_count": null,
   "metadata": {
    "id": "-LzY3tQwifdj"
   },
   "outputs": [],
   "source": [
    "import os\n",
    "import torch\n",
    "import gc\n",
    "import configparser\n",
    "from torch import autocast\n",
    "import numpy as np\n",
    "\n",
    "# Change directory to cloned repository\n",
    "os.chdir('/content/Movie-Character-Identification-With-Perosnalized-Generative-Models')\n",
    "\n",
    "from models import DiffusionGenerator\n",
    "from src import DataUpload\n",
    "from src import HelperFunctions\n"
   ]
  },
  {
   "cell_type": "markdown",
   "metadata": {
    "id": "M_dl_0Soifdj"
   },
   "source": [
    "## **3. Configure Authentication**\n",
    "Login to Hugging Face to access the Stable Diffusion model."
   ]
  },
  {
   "cell_type": "code",
   "execution_count": 3,
   "metadata": {
    "colab": {
     "base_uri": "https://localhost:8080/",
     "height": 17,
     "referenced_widgets": [
      "dd6dd037bf0a48b6bc97c89a8226800d",
      "9079baee12e944ee959b57bcf67da591",
      "ab0a591d34224dcbbd0e10de3090ac84",
      "86188930c3c94c19b87e09fab0801f1b",
      "90e2034eda3946a3a13b07b5f0f8a571",
      "f6a12bd2c6fc4bb78bca579f3689d2ad",
      "7a2e6a9db2234847a415f4f20eac1d10",
      "ec4691811a3b4c0e99e6e5acdbacbcf0",
      "71ac840aa9a346d6824fb4a491ab355a",
      "1a09d27bc4e14a0ba2ad0b9fac94a6ff",
      "640c7dc157d84b39a390cc0a5254a3aa",
      "89efdc33a33f49819467e1dc0c5a9ae7",
      "a01e853ab37f41e590ddcdd9bbecff34",
      "7bdf35ed09024658ba8ec3794eda09ec",
      "49082f2cbc984cdb9b4f9109c8789d10",
      "714bbefbc1c34f24a578fa25ef5cc68c",
      "b37c2470bdea4878a8cf5351e7605570",
      "ee028eca32a848058e16d9ab4cbb2de2",
      "c8177a3e53f14681b213fbb41d1b72c6",
      "badffebfe1e449518ef169e3839bb218"
     ]
    },
    "id": "5m9Csge2ifdk",
    "outputId": "af221c5d-94b9-49dd-f0d2-77fc84629c91"
   },
   "outputs": [
    {
     "output_type": "display_data",
     "data": {
      "text/plain": [
       "VBox(children=(HTML(value='<center> <img\\nsrc=https://huggingface.co/front/assets/huggingface_logo-noborder.sv…"
      ],
      "application/vnd.jupyter.widget-view+json": {
       "version_major": 2,
       "version_minor": 0,
       "model_id": "dd6dd037bf0a48b6bc97c89a8226800d"
      }
     },
     "metadata": {}
    }
   ],
   "source": [
    "from huggingface_hub import notebook_login\n",
    "!git config --global credential.helper store\n",
    "notebook_login()"
   ]
  },
  {
   "cell_type": "markdown",
   "metadata": {
    "id": "uiEmG7NVifdk"
   },
   "source": [
    "## **4. Mount Google Drive**\n",
    "Store and retrieve files from Google Drive."
   ]
  },
  {
   "cell_type": "code",
   "execution_count": 4,
   "metadata": {
    "colab": {
     "base_uri": "https://localhost:8080/"
    },
    "id": "OKWHYOS_ifdk",
    "outputId": "fe4f8ac5-2da5-4b60-e6e8-5805a28fb00c"
   },
   "outputs": [
    {
     "output_type": "stream",
     "name": "stdout",
     "text": [
      "Mounted at /content/drive\n"
     ]
    }
   ],
   "source": [
    "from google.colab import drive\n",
    "drive.mount('/content/drive')"
   ]
  },
  {
   "cell_type": "markdown",
   "metadata": {
    "id": "PJqY5FW-ifdk"
   },
   "source": [
    "## **5. Configuration**\n",
    "Set model parameters and input/output paths.\n",
    "\n",
    "*   Imagic_pipe: True for imagic pipine OR False for SD pipeline"
   ]
  },
  {
   "cell_type": "code",
   "source": [
    "# Configuration\n",
    "\n",
    "num_inference_steps = 50  #@param {type:\"number\"}\n",
    "resolution = 512  #@param {type:\"number\"}\n",
    "height = 512  #@param {type:\"number\"}\n",
    "width = 512  #@param {type:\"number\"}\n",
    "seed_range = [0]  #@param {type:\"raw\"}\n",
    "alpha_range = np.arange(0, 1, 0.05)  #@param {type:\"raw\"}\n",
    "guidance_scale_range = list(np.arange(0, 10, 0.5))  #@param {type:\"raw\"}\n",
    "Imagic_pipe = True  #@param {type:\"boolean\"}\n",
    "SD_model_name = 'CompVis/stable-diffusion-v1-4'\n",
    "CLIP_model_name = 'openai/clip-vit-large-patch14'\n",
    "device = \"cuda\" if torch.cuda.is_available() else \"cpu\"\n"
   ],
   "metadata": {
    "cellView": "form",
    "id": "bUrx8EimuThT"
   },
   "execution_count": 5,
   "outputs": []
  },
  {
   "cell_type": "code",
   "source": [
    "# Path configurations\n",
    "output_dir = '/content/drive/MyDrive/thesis_OO_SD/Fabelmans_movie/generated_images/mixed_model_embeds'#@param {type:\"string\"} #output main folder\n",
    "os.makedirs(output_dir,exist_ok=True)\n",
    "input_embeddings_path =  '/content/drive/MyDrive/thesis_OO_SD/Fabelmans_movie/Imagic_embeddings/4_ID/1024res/embeds_with_pipe' #@param {type:\"string\"} #input main folder\n",
    "\n",
    "text_prompts  =  [\"a_photo_of_a_person\"] #@param {type:\"raw\"}  # add text prompts to generate here (correlates to embedings text)\n",
    "\n",
    "\n",
    "# input/output path creation\n",
    "input_dirs=[]\n",
    "output_dirs=[]\n",
    "\n",
    "for text in text_prompts:\n",
    "  input_dirs.append(os.path.join(input_embeddings_path,text.replace(\" \",\"_\")))\n",
    "  output_dirs.append(os.path.join(output_dir,text.replace(\" \",\"_\")))"
   ],
   "metadata": {
    "cellView": "form",
    "id": "aApeFXgzsang"
   },
   "execution_count": 7,
   "outputs": []
  },
  {
   "cell_type": "markdown",
   "metadata": {
    "id": "MGSHvambks9C"
   },
   "source": [
    "## **6. Generator**\n",
    "Run Generateor for multiple image generation for image_text embeddings"
   ]
  },
  {
   "cell_type": "code",
   "execution_count": null,
   "metadata": {
    "id": "oc9C_9If6_gF"
   },
   "outputs": [],
   "source": [
    "#@title multiple images generator\n",
    "for input_dir, output_dir in zip(input_dirs,output_dirs):\n",
    "  all_files = set(os.listdir(input_dir))\n",
    "  Diffusion_generate.multi_image_generator(all_files,output_dir,input_dir,Imagic_pipe,SD_model_name, CLIP_model_name, device,\n",
    "                    seed_range,alpha_range,guidance_scale_range)\n",
    "\n"
   ]
  }
 ],
 "metadata": {
  "accelerator": "GPU",
  "colab": {
   "collapsed_sections": [
    "8WkXfNrhifdi",
    "EVnS7kScifdj",
    "M_dl_0Soifdj",
    "uiEmG7NVifdk",
    "PJqY5FW-ifdk"
   ],
   "gpuType": "T4",
   "provenance": [],
   "machine_shape": "hm"
  },
  "kernelspec": {
   "display_name": "Python 3",
   "name": "python3"
  },
  "language_info": {
   "name": "python"
  },
  "widgets": {
   "application/vnd.jupyter.widget-state+json": {
    "dd6dd037bf0a48b6bc97c89a8226800d": {
     "model_module": "@jupyter-widgets/controls",
     "model_name": "VBoxModel",
     "model_module_version": "1.5.0",
     "state": {
      "_dom_classes": [],
      "_model_module": "@jupyter-widgets/controls",
      "_model_module_version": "1.5.0",
      "_model_name": "VBoxModel",
      "_view_count": null,
      "_view_module": "@jupyter-widgets/controls",
      "_view_module_version": "1.5.0",
      "_view_name": "VBoxView",
      "box_style": "",
      "children": [],
      "layout": "IPY_MODEL_7a2e6a9db2234847a415f4f20eac1d10"
     }
    },
    "9079baee12e944ee959b57bcf67da591": {
     "model_module": "@jupyter-widgets/controls",
     "model_name": "HTMLModel",
     "model_module_version": "1.5.0",
     "state": {
      "_dom_classes": [],
      "_model_module": "@jupyter-widgets/controls",
      "_model_module_version": "1.5.0",
      "_model_name": "HTMLModel",
      "_view_count": null,
      "_view_module": "@jupyter-widgets/controls",
      "_view_module_version": "1.5.0",
      "_view_name": "HTMLView",
      "description": "",
      "description_tooltip": null,
      "layout": "IPY_MODEL_ec4691811a3b4c0e99e6e5acdbacbcf0",
      "placeholder": "​",
      "style": "IPY_MODEL_71ac840aa9a346d6824fb4a491ab355a",
      "value": "<center> <img\nsrc=https://huggingface.co/front/assets/huggingface_logo-noborder.svg\nalt='Hugging Face'> <br> Copy a token from <a\nhref=\"https://huggingface.co/settings/tokens\" target=\"_blank\">your Hugging Face\ntokens page</a> and paste it below. <br> Immediately click login after copying\nyour token or it might be stored in plain text in this notebook file. </center>"
     }
    },
    "ab0a591d34224dcbbd0e10de3090ac84": {
     "model_module": "@jupyter-widgets/controls",
     "model_name": "PasswordModel",
     "model_module_version": "1.5.0",
     "state": {
      "_dom_classes": [],
      "_model_module": "@jupyter-widgets/controls",
      "_model_module_version": "1.5.0",
      "_model_name": "PasswordModel",
      "_view_count": null,
      "_view_module": "@jupyter-widgets/controls",
      "_view_module_version": "1.5.0",
      "_view_name": "PasswordView",
      "continuous_update": true,
      "description": "Token:",
      "description_tooltip": null,
      "disabled": false,
      "layout": "IPY_MODEL_1a09d27bc4e14a0ba2ad0b9fac94a6ff",
      "placeholder": "​",
      "style": "IPY_MODEL_640c7dc157d84b39a390cc0a5254a3aa",
      "value": ""
     }
    },
    "86188930c3c94c19b87e09fab0801f1b": {
     "model_module": "@jupyter-widgets/controls",
     "model_name": "CheckboxModel",
     "model_module_version": "1.5.0",
     "state": {
      "_dom_classes": [],
      "_model_module": "@jupyter-widgets/controls",
      "_model_module_version": "1.5.0",
      "_model_name": "CheckboxModel",
      "_view_count": null,
      "_view_module": "@jupyter-widgets/controls",
      "_view_module_version": "1.5.0",
      "_view_name": "CheckboxView",
      "description": "Add token as git credential?",
      "description_tooltip": null,
      "disabled": false,
      "indent": true,
      "layout": "IPY_MODEL_89efdc33a33f49819467e1dc0c5a9ae7",
      "style": "IPY_MODEL_a01e853ab37f41e590ddcdd9bbecff34",
      "value": true
     }
    },
    "90e2034eda3946a3a13b07b5f0f8a571": {
     "model_module": "@jupyter-widgets/controls",
     "model_name": "ButtonModel",
     "model_module_version": "1.5.0",
     "state": {
      "_dom_classes": [],
      "_model_module": "@jupyter-widgets/controls",
      "_model_module_version": "1.5.0",
      "_model_name": "ButtonModel",
      "_view_count": null,
      "_view_module": "@jupyter-widgets/controls",
      "_view_module_version": "1.5.0",
      "_view_name": "ButtonView",
      "button_style": "",
      "description": "Login",
      "disabled": false,
      "icon": "",
      "layout": "IPY_MODEL_7bdf35ed09024658ba8ec3794eda09ec",
      "style": "IPY_MODEL_49082f2cbc984cdb9b4f9109c8789d10",
      "tooltip": ""
     }
    },
    "f6a12bd2c6fc4bb78bca579f3689d2ad": {
     "model_module": "@jupyter-widgets/controls",
     "model_name": "HTMLModel",
     "model_module_version": "1.5.0",
     "state": {
      "_dom_classes": [],
      "_model_module": "@jupyter-widgets/controls",
      "_model_module_version": "1.5.0",
      "_model_name": "HTMLModel",
      "_view_count": null,
      "_view_module": "@jupyter-widgets/controls",
      "_view_module_version": "1.5.0",
      "_view_name": "HTMLView",
      "description": "",
      "description_tooltip": null,
      "layout": "IPY_MODEL_714bbefbc1c34f24a578fa25ef5cc68c",
      "placeholder": "​",
      "style": "IPY_MODEL_b37c2470bdea4878a8cf5351e7605570",
      "value": "\n<b>Pro Tip:</b> If you don't already have one, you can create a dedicated\n'notebooks' token with 'write' access, that you can then easily reuse for all\nnotebooks. </center>"
     }
    },
    "7a2e6a9db2234847a415f4f20eac1d10": {
     "model_module": "@jupyter-widgets/base",
     "model_name": "LayoutModel",
     "model_module_version": "1.2.0",
     "state": {
      "_model_module": "@jupyter-widgets/base",
      "_model_module_version": "1.2.0",
      "_model_name": "LayoutModel",
      "_view_count": null,
      "_view_module": "@jupyter-widgets/base",
      "_view_module_version": "1.2.0",
      "_view_name": "LayoutView",
      "align_content": null,
      "align_items": "center",
      "align_self": null,
      "border": null,
      "bottom": null,
      "display": "flex",
      "flex": null,
      "flex_flow": "column",
      "grid_area": null,
      "grid_auto_columns": null,
      "grid_auto_flow": null,
      "grid_auto_rows": null,
      "grid_column": null,
      "grid_gap": null,
      "grid_row": null,
      "grid_template_areas": null,
      "grid_template_columns": null,
      "grid_template_rows": null,
      "height": null,
      "justify_content": null,
      "justify_items": null,
      "left": null,
      "margin": null,
      "max_height": null,
      "max_width": null,
      "min_height": null,
      "min_width": null,
      "object_fit": null,
      "object_position": null,
      "order": null,
      "overflow": null,
      "overflow_x": null,
      "overflow_y": null,
      "padding": null,
      "right": null,
      "top": null,
      "visibility": null,
      "width": "50%"
     }
    },
    "ec4691811a3b4c0e99e6e5acdbacbcf0": {
     "model_module": "@jupyter-widgets/base",
     "model_name": "LayoutModel",
     "model_module_version": "1.2.0",
     "state": {
      "_model_module": "@jupyter-widgets/base",
      "_model_module_version": "1.2.0",
      "_model_name": "LayoutModel",
      "_view_count": null,
      "_view_module": "@jupyter-widgets/base",
      "_view_module_version": "1.2.0",
      "_view_name": "LayoutView",
      "align_content": null,
      "align_items": null,
      "align_self": null,
      "border": null,
      "bottom": null,
      "display": null,
      "flex": null,
      "flex_flow": null,
      "grid_area": null,
      "grid_auto_columns": null,
      "grid_auto_flow": null,
      "grid_auto_rows": null,
      "grid_column": null,
      "grid_gap": null,
      "grid_row": null,
      "grid_template_areas": null,
      "grid_template_columns": null,
      "grid_template_rows": null,
      "height": null,
      "justify_content": null,
      "justify_items": null,
      "left": null,
      "margin": null,
      "max_height": null,
      "max_width": null,
      "min_height": null,
      "min_width": null,
      "object_fit": null,
      "object_position": null,
      "order": null,
      "overflow": null,
      "overflow_x": null,
      "overflow_y": null,
      "padding": null,
      "right": null,
      "top": null,
      "visibility": null,
      "width": null
     }
    },
    "71ac840aa9a346d6824fb4a491ab355a": {
     "model_module": "@jupyter-widgets/controls",
     "model_name": "DescriptionStyleModel",
     "model_module_version": "1.5.0",
     "state": {
      "_model_module": "@jupyter-widgets/controls",
      "_model_module_version": "1.5.0",
      "_model_name": "DescriptionStyleModel",
      "_view_count": null,
      "_view_module": "@jupyter-widgets/base",
      "_view_module_version": "1.2.0",
      "_view_name": "StyleView",
      "description_width": ""
     }
    },
    "1a09d27bc4e14a0ba2ad0b9fac94a6ff": {
     "model_module": "@jupyter-widgets/base",
     "model_name": "LayoutModel",
     "model_module_version": "1.2.0",
     "state": {
      "_model_module": "@jupyter-widgets/base",
      "_model_module_version": "1.2.0",
      "_model_name": "LayoutModel",
      "_view_count": null,
      "_view_module": "@jupyter-widgets/base",
      "_view_module_version": "1.2.0",
      "_view_name": "LayoutView",
      "align_content": null,
      "align_items": null,
      "align_self": null,
      "border": null,
      "bottom": null,
      "display": null,
      "flex": null,
      "flex_flow": null,
      "grid_area": null,
      "grid_auto_columns": null,
      "grid_auto_flow": null,
      "grid_auto_rows": null,
      "grid_column": null,
      "grid_gap": null,
      "grid_row": null,
      "grid_template_areas": null,
      "grid_template_columns": null,
      "grid_template_rows": null,
      "height": null,
      "justify_content": null,
      "justify_items": null,
      "left": null,
      "margin": null,
      "max_height": null,
      "max_width": null,
      "min_height": null,
      "min_width": null,
      "object_fit": null,
      "object_position": null,
      "order": null,
      "overflow": null,
      "overflow_x": null,
      "overflow_y": null,
      "padding": null,
      "right": null,
      "top": null,
      "visibility": null,
      "width": null
     }
    },
    "640c7dc157d84b39a390cc0a5254a3aa": {
     "model_module": "@jupyter-widgets/controls",
     "model_name": "DescriptionStyleModel",
     "model_module_version": "1.5.0",
     "state": {
      "_model_module": "@jupyter-widgets/controls",
      "_model_module_version": "1.5.0",
      "_model_name": "DescriptionStyleModel",
      "_view_count": null,
      "_view_module": "@jupyter-widgets/base",
      "_view_module_version": "1.2.0",
      "_view_name": "StyleView",
      "description_width": ""
     }
    },
    "89efdc33a33f49819467e1dc0c5a9ae7": {
     "model_module": "@jupyter-widgets/base",
     "model_name": "LayoutModel",
     "model_module_version": "1.2.0",
     "state": {
      "_model_module": "@jupyter-widgets/base",
      "_model_module_version": "1.2.0",
      "_model_name": "LayoutModel",
      "_view_count": null,
      "_view_module": "@jupyter-widgets/base",
      "_view_module_version": "1.2.0",
      "_view_name": "LayoutView",
      "align_content": null,
      "align_items": null,
      "align_self": null,
      "border": null,
      "bottom": null,
      "display": null,
      "flex": null,
      "flex_flow": null,
      "grid_area": null,
      "grid_auto_columns": null,
      "grid_auto_flow": null,
      "grid_auto_rows": null,
      "grid_column": null,
      "grid_gap": null,
      "grid_row": null,
      "grid_template_areas": null,
      "grid_template_columns": null,
      "grid_template_rows": null,
      "height": null,
      "justify_content": null,
      "justify_items": null,
      "left": null,
      "margin": null,
      "max_height": null,
      "max_width": null,
      "min_height": null,
      "min_width": null,
      "object_fit": null,
      "object_position": null,
      "order": null,
      "overflow": null,
      "overflow_x": null,
      "overflow_y": null,
      "padding": null,
      "right": null,
      "top": null,
      "visibility": null,
      "width": null
     }
    },
    "a01e853ab37f41e590ddcdd9bbecff34": {
     "model_module": "@jupyter-widgets/controls",
     "model_name": "DescriptionStyleModel",
     "model_module_version": "1.5.0",
     "state": {
      "_model_module": "@jupyter-widgets/controls",
      "_model_module_version": "1.5.0",
      "_model_name": "DescriptionStyleModel",
      "_view_count": null,
      "_view_module": "@jupyter-widgets/base",
      "_view_module_version": "1.2.0",
      "_view_name": "StyleView",
      "description_width": ""
     }
    },
    "7bdf35ed09024658ba8ec3794eda09ec": {
     "model_module": "@jupyter-widgets/base",
     "model_name": "LayoutModel",
     "model_module_version": "1.2.0",
     "state": {
      "_model_module": "@jupyter-widgets/base",
      "_model_module_version": "1.2.0",
      "_model_name": "LayoutModel",
      "_view_count": null,
      "_view_module": "@jupyter-widgets/base",
      "_view_module_version": "1.2.0",
      "_view_name": "LayoutView",
      "align_content": null,
      "align_items": null,
      "align_self": null,
      "border": null,
      "bottom": null,
      "display": null,
      "flex": null,
      "flex_flow": null,
      "grid_area": null,
      "grid_auto_columns": null,
      "grid_auto_flow": null,
      "grid_auto_rows": null,
      "grid_column": null,
      "grid_gap": null,
      "grid_row": null,
      "grid_template_areas": null,
      "grid_template_columns": null,
      "grid_template_rows": null,
      "height": null,
      "justify_content": null,
      "justify_items": null,
      "left": null,
      "margin": null,
      "max_height": null,
      "max_width": null,
      "min_height": null,
      "min_width": null,
      "object_fit": null,
      "object_position": null,
      "order": null,
      "overflow": null,
      "overflow_x": null,
      "overflow_y": null,
      "padding": null,
      "right": null,
      "top": null,
      "visibility": null,
      "width": null
     }
    },
    "49082f2cbc984cdb9b4f9109c8789d10": {
     "model_module": "@jupyter-widgets/controls",
     "model_name": "ButtonStyleModel",
     "model_module_version": "1.5.0",
     "state": {
      "_model_module": "@jupyter-widgets/controls",
      "_model_module_version": "1.5.0",
      "_model_name": "ButtonStyleModel",
      "_view_count": null,
      "_view_module": "@jupyter-widgets/base",
      "_view_module_version": "1.2.0",
      "_view_name": "StyleView",
      "button_color": null,
      "font_weight": ""
     }
    },
    "714bbefbc1c34f24a578fa25ef5cc68c": {
     "model_module": "@jupyter-widgets/base",
     "model_name": "LayoutModel",
     "model_module_version": "1.2.0",
     "state": {
      "_model_module": "@jupyter-widgets/base",
      "_model_module_version": "1.2.0",
      "_model_name": "LayoutModel",
      "_view_count": null,
      "_view_module": "@jupyter-widgets/base",
      "_view_module_version": "1.2.0",
      "_view_name": "LayoutView",
      "align_content": null,
      "align_items": null,
      "align_self": null,
      "border": null,
      "bottom": null,
      "display": null,
      "flex": null,
      "flex_flow": null,
      "grid_area": null,
      "grid_auto_columns": null,
      "grid_auto_flow": null,
      "grid_auto_rows": null,
      "grid_column": null,
      "grid_gap": null,
      "grid_row": null,
      "grid_template_areas": null,
      "grid_template_columns": null,
      "grid_template_rows": null,
      "height": null,
      "justify_content": null,
      "justify_items": null,
      "left": null,
      "margin": null,
      "max_height": null,
      "max_width": null,
      "min_height": null,
      "min_width": null,
      "object_fit": null,
      "object_position": null,
      "order": null,
      "overflow": null,
      "overflow_x": null,
      "overflow_y": null,
      "padding": null,
      "right": null,
      "top": null,
      "visibility": null,
      "width": null
     }
    },
    "b37c2470bdea4878a8cf5351e7605570": {
     "model_module": "@jupyter-widgets/controls",
     "model_name": "DescriptionStyleModel",
     "model_module_version": "1.5.0",
     "state": {
      "_model_module": "@jupyter-widgets/controls",
      "_model_module_version": "1.5.0",
      "_model_name": "DescriptionStyleModel",
      "_view_count": null,
      "_view_module": "@jupyter-widgets/base",
      "_view_module_version": "1.2.0",
      "_view_name": "StyleView",
      "description_width": ""
     }
    },
    "ee028eca32a848058e16d9ab4cbb2de2": {
     "model_module": "@jupyter-widgets/controls",
     "model_name": "LabelModel",
     "model_module_version": "1.5.0",
     "state": {
      "_dom_classes": [],
      "_model_module": "@jupyter-widgets/controls",
      "_model_module_version": "1.5.0",
      "_model_name": "LabelModel",
      "_view_count": null,
      "_view_module": "@jupyter-widgets/controls",
      "_view_module_version": "1.5.0",
      "_view_name": "LabelView",
      "description": "",
      "description_tooltip": null,
      "layout": "IPY_MODEL_c8177a3e53f14681b213fbb41d1b72c6",
      "placeholder": "​",
      "style": "IPY_MODEL_badffebfe1e449518ef169e3839bb218",
      "value": "Connecting..."
     }
    },
    "c8177a3e53f14681b213fbb41d1b72c6": {
     "model_module": "@jupyter-widgets/base",
     "model_name": "LayoutModel",
     "model_module_version": "1.2.0",
     "state": {
      "_model_module": "@jupyter-widgets/base",
      "_model_module_version": "1.2.0",
      "_model_name": "LayoutModel",
      "_view_count": null,
      "_view_module": "@jupyter-widgets/base",
      "_view_module_version": "1.2.0",
      "_view_name": "LayoutView",
      "align_content": null,
      "align_items": null,
      "align_self": null,
      "border": null,
      "bottom": null,
      "display": null,
      "flex": null,
      "flex_flow": null,
      "grid_area": null,
      "grid_auto_columns": null,
      "grid_auto_flow": null,
      "grid_auto_rows": null,
      "grid_column": null,
      "grid_gap": null,
      "grid_row": null,
      "grid_template_areas": null,
      "grid_template_columns": null,
      "grid_template_rows": null,
      "height": null,
      "justify_content": null,
      "justify_items": null,
      "left": null,
      "margin": null,
      "max_height": null,
      "max_width": null,
      "min_height": null,
      "min_width": null,
      "object_fit": null,
      "object_position": null,
      "order": null,
      "overflow": null,
      "overflow_x": null,
      "overflow_y": null,
      "padding": null,
      "right": null,
      "top": null,
      "visibility": null,
      "width": null
     }
    },
    "badffebfe1e449518ef169e3839bb218": {
     "model_module": "@jupyter-widgets/controls",
     "model_name": "DescriptionStyleModel",
     "model_module_version": "1.5.0",
     "state": {
      "_model_module": "@jupyter-widgets/controls",
      "_model_module_version": "1.5.0",
      "_model_name": "DescriptionStyleModel",
      "_view_count": null,
      "_view_module": "@jupyter-widgets/base",
      "_view_module_version": "1.2.0",
      "_view_name": "StyleView",
      "description_width": ""
     }
    }
   }
  }
 },
 "nbformat": 4,
 "nbformat_minor": 0
}
