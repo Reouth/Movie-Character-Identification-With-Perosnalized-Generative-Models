{
  "cells": [
    {
      "cell_type": "markdown",
      "source": [
        "# **Similarity calculations**\n",
        "\n",
        "This notebook is designed to caculate Map scores and topK accuracy for evaluate performance of Generative and discrimiantive characters identifications models in movie frames. The notebook is structured to align with the objectives outlined in the thesis.\n",
        "\n"
      ],
      "metadata": {
        "id": "TdcknIXz5Xa4"
      }
    },
    {
      "cell_type": "markdown",
      "metadata": {
        "id": "8WkXfNrhifdi"
      },
      "source": [
        "## **1. Environment Setup**\n",
        "Install necessary libraries and clone the required repository."
      ]
    },
    {
      "cell_type": "code",
      "execution_count": null,
      "metadata": {
        "id": "Q3GrQYwSifdj"
      },
      "outputs": [],
      "source": [
        "!git clone https://github.com/Reouth/Movie-Character-Identification-With-Perosnalized-Generative-Models.git\n",
        "%pip install -qq git+https://github.com/huggingface/diffusers.git\n",
        "%pip install -q accelerate\n",
        "!pip install bitsandbytes\n",
        "!pip install git+https://github.com/openai/CLIP.git"
      ]
    },
    {
      "cell_type": "markdown",
      "metadata": {
        "id": "EVnS7kScifdj"
      },
      "source": [
        "## **2. Import Libraries**\n",
        "Load necessary Python libraries and scripts."
      ]
    },
    {
      "cell_type": "code",
      "execution_count": null,
      "metadata": {
        "id": "-LzY3tQwifdj"
      },
      "outputs": [],
      "source": [
        "import os\n",
        "import pandas as pd\n",
        "\n",
        "# Change directory to cloned repository\n",
        "os.chdir('/content/Movie-Character-Identification-With-Perosnalized-Generative-Models')\n",
        "\n",
        "from src import SimilarityCalc\n",
        "from src import DataUpload\n",
        "from src import HelperFunctions\n"
      ]
    },
    {
      "cell_type": "markdown",
      "metadata": {
        "id": "uiEmG7NVifdk"
      },
      "source": [
        "## **4. Mount Google Drive**\n",
        "Store and retrieve files from Google Drive."
      ]
    },
    {
      "cell_type": "code",
      "execution_count": null,
      "metadata": {
        "colab": {
          "base_uri": "https://localhost:8080/"
        },
        "id": "OKWHYOS_ifdk",
        "outputId": "373db0d2-ed6d-4ff2-907e-12861dc817c2"
      },
      "outputs": [
        {
          "output_type": "stream",
          "name": "stdout",
          "text": [
            "Drive already mounted at /content/drive; to attempt to forcibly remount, call drive.mount(\"/content/drive\", force_remount=True).\n"
          ]
        }
      ],
      "source": [
        "from google.colab import drive\n",
        "drive.mount('/content/drive')"
      ]
    },
    {
      "cell_type": "markdown",
      "metadata": {
        "id": "2ZZaQWNtvoN3"
      },
      "source": [
        "## **4. Upload CSV files**\n",
        "* csvs_folder: raw csv scores files for calculating scores.\n",
        "* results_folder: output csv resutls folder\n",
        "* clip_model: True for clip identifcation model, False for Diffusion Identification model"
      ]
    },
    {
      "cell_type": "code",
      "source": [
        "csvs_folder = \"/content/drive/MyDrive/thesis_OO_SD/ex_machina/csv_results/red_filter/CLIP_imagic_embeds/a_red_filtered_photo\" #@param {type:\"string\"}\n",
        "results_folder = '/content/drive/MyDrive/thesis_OO_SD/ex_machina/similarity_results/red_filter/a_red_filtered_photo/CLIP_imagic_embeds' #@param {type:\"string\"}\n",
        "clip_model = True #@param {type:\"boolean\"}\n",
        "os.makedirs(results_folder, exist_ok=True)\n",
        "\n",
        "csvs = []\n",
        "csvs = data_upload.upload_csvs(csvs_folder)\n"
      ],
      "metadata": {
        "id": "laRs-XgWVsqO"
      },
      "execution_count": null,
      "outputs": []
    },
    {
      "cell_type": "markdown",
      "metadata": {
        "id": "eb5pV8BwxOfX"
      },
      "source": [
        "## **4. Top K results**\n",
        "* avg: True for average score per class False for all inputs\n",
        "* k: k value for topk\n",
        "* pred_column_name: prediction column name in csv"
      ]
    },
    {
      "cell_type": "code",
      "execution_count": null,
      "metadata": {
        "id": "GpNA22-ythT-"
      },
      "outputs": [],
      "source": [
        "avg=False #@param {type:\"boolean\"}\n",
        "k=4 #@param {type:\"integer\"}\n",
        "pred_column_name ='cls_predicted' #@param {type:\"string\"}\n",
        "k_range = range(1,k,1)\n",
        "\n",
        "results =similarity_calc.csv_to_topk_results(avg,clip_model,k_range,csvs,pred_column,results_folder)\n"
      ]
    },
    {
      "cell_type": "markdown",
      "metadata": {
        "id": "D2ABCPGwzn4T"
      },
      "source": [
        "## **5. mAP results**\n"
      ]
    },
    {
      "cell_type": "code",
      "source": [
        "ap_results, mean_ap = similarity_calc.calculate_average_precision(csvs_folder, results_folder, clip_model)\n",
        "print(f'AP results: {ap_results}')\n",
        "print(f'Mean Average Precision (mAP): {mean_ap:.4f}')"
      ],
      "metadata": {
        "id": "sQcelIxuYNy4"
      },
      "execution_count": null,
      "outputs": []
    },
    {
      "cell_type": "markdown",
      "metadata": {
        "id": "E3gQ2KWF0ZNC"
      },
      "source": [
        "## **6. move all files (optional)**\n",
        "* moves all files from subfolders to one main folder with concatinated subfolder names file"
      ]
    },
    {
      "cell_type": "code",
      "source": [
        "source_folder = '/content/drive/MyDrive/thesis_OO_SD/ex_machina/similarity_results/red_filter'  #@param {type:\"string\"}\n",
        "destintion_folder = '/content/drive/MyDrive/thesis_OO_SD/ex_machina/similarity_results/red_filter_all'  #@param {type:\"string\"}\n",
        "HelperFunctions.move_csv_files(source_folder,destintion_folder)"
      ],
      "metadata": {
        "id": "3BThDXvQmUZ3"
      },
      "execution_count": null,
      "outputs": []
    },
    {
      "cell_type": "markdown",
      "metadata": {
        "id": "iW6UXwJ61KAx"
      },
      "source": [
        "## **7. compare all results (optional)**\n",
        "* compares all csv results and saves to one file."
      ]
    },
    {
      "cell_type": "code",
      "source": [
        "folder_path = '/content/drive/MyDrive/thesis_OO_SD/ex_machina/similarity_results/red_filter_all'  #@param {type:\"string\"}\n",
        "output_folder = '/content/drive/MyDrive/thesis_OO_SD/ex_machina/similarity_results/red_filter_merged'  #@param {type:\"string\"}\n",
        "os.makedirs(output_folder, exist_ok=True)\n",
        "folders_names= list(os.listdir(folder_path))\n",
        "\n",
        "similarity_calc.merge_csv_results(folder_path,folders_names,output_folder)"
      ],
      "metadata": {
        "id": "fv2Om8VNsfbZ"
      },
      "execution_count": null,
      "outputs": []
    }
  ],
  "metadata": {
    "colab": {
      "provenance": [],
      "collapsed_sections": [
        "7wVQiRlPG2XI",
        "IN5w9AFNto5C",
        "_uO1ZfssUZTk",
        "lkG8C9dhVpkW",
        "kyeinT6Uvzkt",
        "s4gAWTTxYJpD",
        "3zXMU0rTmVl9",
        "5iUEGJQ3rlJJ"
      ]
    },
    "kernelspec": {
      "display_name": "Python 3",
      "name": "python3"
    },
    "language_info": {
      "name": "python"
    }
  },
  "nbformat": 4,
  "nbformat_minor": 0
}